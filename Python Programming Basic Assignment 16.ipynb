{
 "cells": [
  {
   "cell_type": "markdown",
   "id": "62dc089c",
   "metadata": {},
   "source": [
    "# Python Programming Basic Assignment\n",
    "## Assignment - 16 [ FSDS NOV 21 ]"
   ]
  },
  {
   "cell_type": "markdown",
   "id": "c8648b63",
   "metadata": {},
   "source": [
    "### 1.Write a function that stutters a word as if someone is struggling to read it. The first two letters are repeated twice with an ellipsis ... and space after each, and then the word is pronounced with a question mark ?\n",
    "**Examples:**\n",
    "`stutter(\"incredible\") ➞ \"in... in... incredible?\"`  \n",
    "`stutter(\"enthusiastic\") ➞ \"en... en... enthusiastic?\"`  \n",
    "`stutter(\"outstanding\") ➞ \"ou... ou... outstanding?\"`  \n",
    "\n",
    "Hint :- Assume all input is in lower case and at least two characters long."
   ]
  },
  {
   "cell_type": "code",
   "execution_count": 2,
   "id": "954d6265",
   "metadata": {},
   "outputs": [
    {
     "name": "stdout",
     "output_type": "stream",
     "text": [
      "Enter the Word :incedible\n",
      "incedible ➞ in... in... incedible?\n",
      "Enter the Word :enthusiastic\n",
      "enthusiastic ➞ en... en... enthusiastic?\n",
      "Enter the Word :outstanding\n",
      "outstanding ➞ ou... ou... outstanding?\n"
     ]
    }
   ],
   "source": [
    "def stutterWord():\n",
    "    in_string = input('Enter the Word :')\n",
    "    out_string = in_string.replace(in_string[0:2],((in_string[0:2]+'... ')*2)+ in_string[0:2])  +'?'\n",
    "    print(f'{in_string} ➞ {out_string}')\n",
    "\n",
    "for i in range(3):\n",
    "    stutterWord()"
   ]
  },
  {
   "cell_type": "markdown",
   "id": "527426e7",
   "metadata": {},
   "source": [
    "### 2..Create a function that takes an angle in radians and returns the corresponding angle in degrees rounded to one decimal place ?\n",
    "**Examples:**\n",
    "`radians_to_degrees(1) ➞ 57.3`  \n",
    "`radians_to_degrees(20) ➞ 1145.9`  \n",
    "`radians_to_degrees(50) ➞ 2864.8`  "
   ]
  },
  {
   "cell_type": "code",
   "execution_count": 3,
   "id": "a4573fe0",
   "metadata": {},
   "outputs": [
    {
     "name": "stdout",
     "output_type": "stream",
     "text": [
      "Enter the Radian : 50\n",
      "degree = 2864.7913954398887\n"
     ]
    }
   ],
   "source": [
    "def radians_to_degrees(radian):\n",
    "    pi = 3.14159\n",
    "    degree = radian * (180/pi)\n",
    "    return degree\n",
    "radian = float(input('Enter the Radian : '))\n",
    "print(\"degree =\",(radians_to_degrees(radian)))"
   ]
  },
  {
   "cell_type": "markdown",
   "id": "9c75ed69",
   "metadata": {},
   "source": [
    "### 3.In this challenge, establish if a given integer num is a Curzon number. If 1 plus 2 elevated to num is exactly divisible by 1 plus 2 multiplied by num, then num is a Curzon number. Given a non-negative integer num, implement a function that returns True if num is a Curzon number, or False otherwise. \n",
    "**Examples**: \n",
    "`is_curzon(5) ➞ True\n",
    "    # 2 ** 5 + 1 = 33\n",
    "    # 2 * 5 + 1 = 11\n",
    "    # 33 is a multiple of 11\n",
    "is_curzon(10) ➞ False\n",
    "    # 2 ** 10 + 1 = 1025\n",
    "    # 2 * 10 + 1 = 21\n",
    "    # 1025 is not a multiple of 21\n",
    "is_curzon(14) ➞ True\n",
    "    # 2 ** 14 + 1 = 16385\n",
    "    # 2 * 14 + 1 = 29\n",
    "    # 16385 is a multiple of 29`"
   ]
  },
  {
   "cell_type": "code",
   "execution_count": 8,
   "id": "b36c28c4",
   "metadata": {},
   "outputs": [
    {
     "name": "stdout",
     "output_type": "stream",
     "text": [
      "Enter the number for curzon check \n",
      "3\n",
      "3 is Not Curzon\n"
     ]
    }
   ],
   "source": [
    "import pyinputplus as pyip\n",
    "\n",
    "def is_curzon_number(num):\n",
    "    top = 2**num + 1\n",
    "    bot = 2*num + 1\n",
    "    if top%bot == 0:\n",
    "        return \"Curzon\"\n",
    "    return \"Not Curzon\"\n",
    "\n",
    "num = pyip.inputNum(\"Enter the number for curzon check \\n\")\n",
    "\n",
    "print(\"{} is {}\".format(num, is_curzon_number(num)))"
   ]
  },
  {
   "cell_type": "markdown",
   "id": "1102933a",
   "metadata": {},
   "source": [
    "### 4.Given the side length x find the area of a hexagon ?\n",
    "**Examples:**\n",
    "`area_of_hexagon(1) ➞ 2.6`  \n",
    "`area_of_hexagon(2) ➞ 10.4`  \n",
    "`area_of_hexagon(3) ➞ 23.4`  "
   ]
  },
  {
   "cell_type": "code",
   "execution_count": 9,
   "id": "2120ccc3",
   "metadata": {},
   "outputs": [
    {
     "name": "stdout",
     "output_type": "stream",
     "text": [
      "Enter the length : 2.6\n",
      "Area: 17.5630\n"
     ]
    }
   ],
   "source": [
    "import math\n",
    "def area_of_hexagon(s):     \n",
    "    return ((3 * math.sqrt(3) * (sideLength * sideLength)) / 2);     \n",
    "\n",
    "sideLength = float(input('Enter the length : '))\n",
    "\n",
    "print(\"Area:\",\"{0:.4f}\".format(area_of_hexagon(sideLength)))"
   ]
  },
  {
   "cell_type": "markdown",
   "id": "730f48dc",
   "metadata": {},
   "source": [
    "### 5.Create a function that returns a base-2 (binary) representation of a base-10 (decimal) string number. To convert is simple:\n",
    "((2) means base-2 and (10) means base-10)  \n",
    "`010101001(2) = 1 + 8 + 32 + 128.`    \n",
    "Going from right to left, the value of the most right bit is 1, now from that every bit to the left will be x2 the value, value of an 8 bit binary numbers are (256, 128, 64, 32, 16, 8, 4, 2, 1).  \n",
    "**Examples:**  \n",
    "`binary(1) ➞ \"1\"\n",
    "    # 1* 1 = 1\n",
    "binary(5) ➞ \"101\"\n",
    "    # 1 1 + 1 4 = 5\n",
    "binary(10) ➞ \"1010\"\n",
    "    # 1 2 + 1 8 = 10`"
   ]
  },
  {
   "cell_type": "code",
   "execution_count": 5,
   "id": "afcdb703",
   "metadata": {},
   "outputs": [
    {
     "name": "stdout",
     "output_type": "stream",
     "text": [
      "Enter a Number: 1\n",
      "Binary of 1 ➞ 1\n",
      "Enter a Number: 5\n",
      "Binary of 5 ➞ 101\n",
      "Enter a Number: 10\n",
      "Binary of 10 ➞ 1010\n"
     ]
    }
   ],
   "source": [
    "def getBinary():\n",
    "    in_num = int(input(\"Enter a Number: \"))\n",
    "    out_num = bin(in_num).replace('0b','') \n",
    "    print(f'Binary of {in_num} ➞ {out_num}')\n",
    "\n",
    "for x in range(3):\n",
    "    getBinary()"
   ]
  }
 ],
 "metadata": {
  "kernelspec": {
   "display_name": "Python 3 (ipykernel)",
   "language": "python",
   "name": "python3"
  },
  "language_info": {
   "codemirror_mode": {
    "name": "ipython",
    "version": 3
   },
   "file_extension": ".py",
   "mimetype": "text/x-python",
   "name": "python",
   "nbconvert_exporter": "python",
   "pygments_lexer": "ipython3",
   "version": "3.9.7"
  }
 },
 "nbformat": 4,
 "nbformat_minor": 5
}
