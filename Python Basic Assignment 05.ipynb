{
 "cells": [
  {
   "cell_type": "markdown",
   "metadata": {},
   "source": [
    "# Python Basic Assignment\n",
    "## Assignment - 5 [ FSDS NOV 21 ]"
   ]
  },
  {
   "cell_type": "markdown",
   "metadata": {},
   "source": [
    "### 1.What does an empty dictionary's code look like?\n",
    "**Ans:** An empty dictionary is often represented by two empty curly brackets  \n",
    "`d = {}` or `d = dict()`"
   ]
  },
  {
   "cell_type": "code",
   "execution_count": 1,
   "metadata": {},
   "outputs": [
    {
     "name": "stdout",
     "output_type": "stream",
     "text": [
      "{} <class 'dict'>\n"
     ]
    }
   ],
   "source": [
    "empty_dict = {}\n",
    "type(empty_dict)\n",
    "print(empty_dict, type(empty_dict))"
   ]
  },
  {
   "cell_type": "markdown",
   "metadata": {},
   "source": [
    "### 2.what is the value of dictionary value with key 'foo' and the value 42 ?\n",
    "**Ans:** `{'foo':42}`"
   ]
  },
  {
   "cell_type": "code",
   "execution_count": 3,
   "metadata": {},
   "outputs": [
    {
     "name": "stdout",
     "output_type": "stream",
     "text": [
      "{'foo': 42} <class 'dict'>\n"
     ]
    }
   ],
   "source": [
    "demo_dict = {'foo': 42}\n",
    "type(demo_dict)\n",
    "print(demo_dict, type(demo_dict))"
   ]
  },
  {
   "cell_type": "markdown",
   "metadata": {},
   "source": [
    "### 3.What is the most significant distinction between a dictionary and a list?\n",
    "**Ans:** \n",
    "\n",
    "`Dictionaries:` Dictionaries are represented by `{}`. The Items stored in a dictionary are Unordered. Dictionary is a hashed structure of key and value pairs. Dictionary is created by placing elements in { } as “key”:”value”, each key value pair is separated by commas `“, “`. The keys of dictionary can be of any data type. The elements are accessed via key-values.\n",
    "\n",
    "\n",
    "`List:` listes are represented by `[]`. List is a collection of index values pairs. The items in a list are ordered. List is created by placing elements in [ ] separated by commas `“, “`. The indices of list are integers starting from 0. The elements are accessed via indices.\t\n",
    "\n"
   ]
  },
  {
   "cell_type": "markdown",
   "metadata": {},
   "source": [
    "### 4.What happens if you try to access spam ['foo'] if spam is {'bar':100} ?\n",
    "**Ans:** we will get a keyError `KeyError: 'foo'`"
   ]
  },
  {
   "cell_type": "code",
   "execution_count": 4,
   "metadata": {},
   "outputs": [
    {
     "ename": "KeyError",
     "evalue": "'foo'",
     "output_type": "error",
     "traceback": [
      "\u001b[0;31m---------------------------------------------------------------------------\u001b[0m",
      "\u001b[0;31mKeyError\u001b[0m                                  Traceback (most recent call last)",
      "\u001b[0;32m/var/folders/t_/0xqnxt590_q3q2xk8hccdjg00000gn/T/ipykernel_2127/1076998913.py\u001b[0m in \u001b[0;36m<module>\u001b[0;34m\u001b[0m\n\u001b[1;32m      1\u001b[0m \u001b[0mspam\u001b[0m \u001b[0;34m=\u001b[0m \u001b[0;34m{\u001b[0m\u001b[0;34m'bar'\u001b[0m\u001b[0;34m:\u001b[0m \u001b[0;36m100\u001b[0m\u001b[0;34m}\u001b[0m\u001b[0;34m\u001b[0m\u001b[0;34m\u001b[0m\u001b[0m\n\u001b[0;32m----> 2\u001b[0;31m \u001b[0mspam\u001b[0m\u001b[0;34m[\u001b[0m\u001b[0;34m'foo'\u001b[0m\u001b[0;34m]\u001b[0m  \u001b[0;31m# KeyError\u001b[0m\u001b[0;34m\u001b[0m\u001b[0;34m\u001b[0m\u001b[0m\n\u001b[0m",
      "\u001b[0;31mKeyError\u001b[0m: 'foo'"
     ]
    }
   ],
   "source": [
    "spam = {'bar': 100}\n",
    "spam['foo']  # KeyError"
   ]
  },
  {
   "cell_type": "markdown",
   "metadata": {},
   "source": [
    "### 5. if a dictionary is stored in spam,what is the difference between the expressions 'cat' in spam and 'cat' in spam.keys() ?\n",
    "**Ans:** \n",
    "There is no difference in result but...\n",
    "\n",
    "`'cat' in spam `: `cat` key_name is present within the dictionary spam.\n",
    "\n",
    "`spam.keys()` : provides dict_keys of the keys present within the dictionary spam. so  'cat' in spam.keys() means `cat` key_name is present within the dict_keys spam.keys()"
   ]
  },
  {
   "cell_type": "code",
   "execution_count": 5,
   "metadata": {},
   "outputs": [
    {
     "name": "stdout",
     "output_type": "stream",
     "text": [
      "{'cat': 'ineuron'}\n",
      "True\n",
      "True\n",
      "dict_keys(['cat'])\n"
     ]
    },
    {
     "data": {
      "text/plain": [
       "dict_keys"
      ]
     },
     "execution_count": 5,
     "metadata": {},
     "output_type": "execute_result"
    }
   ],
   "source": [
    "spam = {'cat': 'ineuron'}\n",
    "print(spam)\n",
    "\n",
    "print('cat' in spam)\n",
    "print('cat' in spam.keys())\n",
    "print(spam.keys())\n",
    "type(spam.keys())\n",
    "\n"
   ]
  },
  {
   "cell_type": "markdown",
   "metadata": {},
   "source": [
    "### 6.if a dictionary is stored in spam,what is the difference between the expressions 'cat' in spam and 'cat' in spam.values() ?\n",
    "**Ans:**\n",
    "\n",
    "'cat' in spam checks whether there is a 'cat' key in the dictionary,\n",
    "while 'cat' in spam.values() checks whether there is a value 'cat' for one of the keys in spam.\n",
    "\n",
    "\n",
    "So The result of both the operation will be different as the 'cat' is a key name & is present within the dictionary.\n",
    "\n",
    "Also spam.values() provides all the values present within the dictionary\n",
    "So if the values match with the given value ; it will definitely return True"
   ]
  },
  {
   "cell_type": "code",
   "execution_count": 6,
   "metadata": {},
   "outputs": [
    {
     "name": "stdout",
     "output_type": "stream",
     "text": [
      "{'cat': 'ineuron'}\n",
      "True\n",
      "False\n"
     ]
    }
   ],
   "source": [
    "spam = {'cat':'ineuron'}\n",
    "print(spam)\n",
    "print('cat' in spam) # This checks for the key name in a dictionary\n",
    "print('cat' in spam.values())   \n",
    "# checks whether there is a value 'cat' for one of the keys in spam"
   ]
  },
  {
   "cell_type": "markdown",
   "metadata": {},
   "source": [
    "### 7.what is a shortcut for the following code ?\n",
    "`if 'color' not in spam:\n",
    "    spam['color'] ='black'`\n",
    "    \n",
    "**Ans:** `spam.setdefault('color','black')`"
   ]
  },
  {
   "cell_type": "markdown",
   "metadata": {},
   "source": [
    "### 8.How do you 'pretty print' dictionary values using which modules and function ?\n",
    "**Ans:** we can pretty print a dictionary using three functions\n",
    "1. by using pprint() function of pprint module\n",
    "    * **Note:** pprint() function doesnot prettify nested dictionaries\n",
    "2. by using dumps() method of json module\n",
    "3. by using dumps() method of yaml module\n"
   ]
  },
  {
   "cell_type": "code",
   "execution_count": 7,
   "metadata": {},
   "outputs": [
    {
     "name": "stdout",
     "output_type": "stream",
     "text": [
      "Printing raw json using print() function\n",
      " [{'Name': 'abc', 'price': 1000, 'details': {'color': 'Blue', 'size': '2pcs'}}, {'Name': 'def', 'price': 2000, 'details': {'color': 'Red', 'size': '5pcs'}}]\n",
      "----------------------------------------------------------------------\n",
      "Printing using pprint() funciton\n",
      "[{'Name': 'abc', 'details': {'color': 'Blue', 'size': '2pcs'}, 'price': 1000},\n",
      " {'Name': 'def', 'details': {'color': 'Red', 'size': '5pcs'}, 'price': 2000}]\n",
      "----------------------------------------------------------------------\n",
      "Printing using json dumps() method\n",
      " [\n",
      "    {\n",
      "        \"Name\": \"abc\",\n",
      "        \"price\": 1000,\n",
      "        \"details\": {\n",
      "            \"color\": \"Blue\",\n",
      "            \"size\": \"2pcs\"\n",
      "        }\n",
      "    },\n",
      "    {\n",
      "        \"Name\": \"def\",\n",
      "        \"price\": 2000,\n",
      "        \"details\": {\n",
      "            \"color\": \"Red\",\n",
      "            \"size\": \"5pcs\"\n",
      "        }\n",
      "    }\n",
      "]\n",
      "----------------------------------------------------------------------\n",
      "Printing using yaml dump() method\n",
      " - Name: abc\n",
      "  details:\n",
      "    color: Blue\n",
      "    size: 2pcs\n",
      "  price: 1000\n",
      "- Name: def\n",
      "  details:\n",
      "    color: Red\n",
      "    size: 5pcs\n",
      "  price: 2000\n",
      "\n"
     ]
    }
   ],
   "source": [
    "import pprint\n",
    "import json\n",
    "import yaml\n",
    "\n",
    "demo_json = [\n",
    "    {'Name': 'abc', 'price': 1000, 'details': {'color': 'Blue', 'size': '2pcs'}},\n",
    "    {'Name': 'def', 'price': 2000, 'details': {\n",
    "        'color': 'Red', 'size': '5pcs'}},\n",
    "]\n",
    "\n",
    "print('Printing raw json using print() function\\n', demo_json)\n",
    "print('-'*70)\n",
    "\n",
    "print('Printing using pprint() funciton')\n",
    "pprint.pprint(demo_json)\n",
    "print('-'*70)\n",
    "\n",
    "dump = json.dumps(demo_json, indent=4)\n",
    "print('Printing using json dumps() method\\n', dump)\n",
    "print('-'*70)\n",
    "\n",
    "dump = yaml.dump(demo_json)\n",
    "print('Printing using yaml dump() method\\n', dump)\n",
    "\n"
   ]
  },
  {
   "cell_type": "code",
   "execution_count": null,
   "metadata": {},
   "outputs": [],
   "source": []
  }
 ],
 "metadata": {
  "kernelspec": {
   "display_name": "Python 3 (ipykernel)",
   "language": "python",
   "name": "python3"
  },
  "language_info": {
   "codemirror_mode": {
    "name": "ipython",
    "version": 3
   },
   "file_extension": ".py",
   "mimetype": "text/x-python",
   "name": "python",
   "nbconvert_exporter": "python",
   "pygments_lexer": "ipython3",
   "version": "3.9.7"
  }
 },
 "nbformat": 4,
 "nbformat_minor": 4
}
