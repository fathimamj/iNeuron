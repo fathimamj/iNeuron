{
 "cells": [
  {
   "cell_type": "markdown",
   "id": "d3e4d46e",
   "metadata": {},
   "source": [
    "# Python Advance Assignment\n",
    "## Assignment - 23 [ FSDS NOV 21 ]"
   ]
  },
  {
   "cell_type": "markdown",
   "id": "1f60b1e6",
   "metadata": {},
   "source": [
    "### Q1. If you have any, what are your choices for increasing the comparison between different figures on the same graph?\n",
    "**Ans:**\n",
    "\n",
    "Matplotlib provides a convenient method called subplots for increasing the comparison between different figures on the same graph. Subplots mean a group of smaller axes (where each axis is a plot) that can exist together within a single figure.\n",
    "\n",
    "Also, A scatter chart shows the relationship between two different variables and it can reveal the distribution trends."
   ]
  },
  {
   "cell_type": "markdown",
   "id": "db28f249",
   "metadata": {},
   "source": [
    "### Q2. Can you explain the benefit of compound interest over a higher rate of interest that does not compound after reading this chapter?\n",
    "**Ans:** \n",
    "\n",
    "Compound interest causes one's wealth to grow faster. It makes a sum of money grow at a faster rate than simple interest because one will earn returns on the money other invest, as well as on returns at the end of every compounding period. This means that one don't have to put away as much money to reach others goals."
   ]
  },
  {
   "cell_type": "markdown",
   "id": "41155b92",
   "metadata": {},
   "source": [
    "### Q3. What is a histogram, exactly? Name a numpy method for creating such a graph ?\n",
    "**Ans:**\n",
    "\n",
    "A histogram displays numerical data by grouping data into \"bins\" of equal width. Each bin is plotted as a bar whose height corresponds to how many data points are in that bin. Bins are also sometimes called \"intervals\", \"classes\", or \"buckets\".\n",
    "\n",
    "`NumPy.histogram()` Method in Python can be used.\n",
    "\n",
    "Histogram shows total values of X wrt Y. Which means at any particular position of X, Y value shows the total number of counts or data below that value of X. `numpy.histogram()` is the built in function used. "
   ]
  },
  {
   "cell_type": "markdown",
   "id": "c290f68f",
   "metadata": {},
   "source": [
    "### Q4. If necessary, how do you change the aspect ratios between the X and Y axes ?\n",
    "**Ans:** \n",
    "\n",
    "We can use `figure(figsize=(10,8))` function inside the `matplot.pyplot` library which we scale down or up the graph."
   ]
  },
  {
   "cell_type": "markdown",
   "id": "08349ded",
   "metadata": {},
   "source": [
    "### Q5. Compare and contrast the three types of array multiplication between two numpy arrays: dot product, outer product, and regular multiplication of two numpy arrays ?\n",
    "**Ans:** \n",
    "\n",
    "- In `regular multiplication` values of same index get multiplied.\n",
    "- In `dot product` there is row wise multiplication, row of one array with column of second array and so on.\n",
    "- In `outer multiplication` every element of first array a1 will be multiply by every element of other array a2 such such the number of columns will be equal to the number of element in another array a2."
   ]
  },
  {
   "cell_type": "code",
   "execution_count": 1,
   "id": "5184d5fe",
   "metadata": {},
   "outputs": [
    {
     "name": "stdout",
     "output_type": "stream",
     "text": [
      "vector multiplication\n",
      "[[3 6]\n",
      " [3 6]]\n",
      "outer multiplication\n",
      "[[1 2 1 2]\n",
      " [2 4 2 4]\n",
      " [1 2 1 2]\n",
      " [2 4 2 4]]\n",
      "\n",
      "Elementwise multiplication of two vector\n",
      "[[1 4]\n",
      " [1 4]]\n"
     ]
    }
   ],
   "source": [
    "import numpy as np\n",
    "\n",
    "\n",
    "# vector v1 of dimension (2, 2)\n",
    "v1 = np.array([[1, 2], [1, 2]])\n",
    "\n",
    "# vector v2 of dimension (2, 2)\n",
    "v2 = np.array([[1, 2], [1, 2]])\n",
    "\n",
    "print(\"vector multiplication\")\n",
    "print(np.dot(v1, v2))\n",
    "print(\"outer multiplication\")\n",
    "print(np.outer(v1, v2))\n",
    "print(\"\\nElementwise multiplication of two vector\")\n",
    "print(v1 * v2)\n",
    "\n"
   ]
  },
  {
   "cell_type": "markdown",
   "id": "633bb299",
   "metadata": {},
   "source": [
    "### Q6. Before you buy a home, which numpy function will you use to measure your monthly mortgage payment ?\n",
    "**Ans:**\n",
    "\n",
    "`np.pmt(rate, nper, pv)` function we will be using in order to calculate monthly mortgage payment before you purchase a house.\n",
    "- `rate` = The periodic interest rate\n",
    "- `nper` = The number of payment periods\n",
    "- `pv` = The total value of the mortgage loan"
   ]
  },
  {
   "cell_type": "markdown",
   "id": "17cffb18",
   "metadata": {},
   "source": [
    "### Q7. Can string data be stored in numpy arrays? If so, list at least one restriction that applies to this data ?\n",
    "**Ans:** \n",
    "\n",
    "Yes, an array can store the string. The limitation which imposed on the string data is, whenever we store the data of string dtype then it should should keep in mind that the string which is having the maximum length is the limit. "
   ]
  },
  {
   "cell_type": "code",
   "execution_count": 2,
   "id": "932b1460",
   "metadata": {},
   "outputs": [
    {
     "name": "stdout",
     "output_type": "stream",
     "text": [
      "['USA' 'Japan' 'UK' '' 'India' 'China']\n"
     ]
    }
   ],
   "source": [
    "# importing the numpy library as np\n",
    "import numpy as np\n",
    "\n",
    "# Create a numpy array\n",
    "# set the dtype to object\n",
    "country = np.array(['USA', 'Japan', 'UK', '', 'India', 'China'], dtype = 'object')\n",
    "\n",
    "# Print the array\n",
    "print(country)"
   ]
  },
  {
   "cell_type": "code",
   "execution_count": 3,
   "id": "e24ad7a4",
   "metadata": {},
   "outputs": [
    {
     "name": "stdout",
     "output_type": "stream",
     "text": [
      "['USA' 'Japan' 'UK' 'New Zealand' 'India' 'China']\n"
     ]
    }
   ],
   "source": [
    "#Now we can use assign a value of arbitrary length at the place of missing value in the given array.\n",
    "\n",
    "# Assign 'New Zealand' to the missing value\n",
    "country[country == ''] = 'New Zealand'\n",
    "  \n",
    "# Print the array\n",
    "print(country)"
   ]
  }
 ],
 "metadata": {
  "kernelspec": {
   "display_name": "Python 3 (ipykernel)",
   "language": "python",
   "name": "python3"
  },
  "language_info": {
   "codemirror_mode": {
    "name": "ipython",
    "version": 3
   },
   "file_extension": ".py",
   "mimetype": "text/x-python",
   "name": "python",
   "nbconvert_exporter": "python",
   "pygments_lexer": "ipython3",
   "version": "3.9.7"
  }
 },
 "nbformat": 4,
 "nbformat_minor": 5
}
