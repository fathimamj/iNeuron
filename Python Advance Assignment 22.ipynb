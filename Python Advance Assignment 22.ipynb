{
 "cells": [
  {
   "cell_type": "markdown",
   "id": "478225ca",
   "metadata": {},
   "source": [
    "# Python Advance Assignment\n",
    "## Assignment - 22 [ FSDS NOV 21 ]"
   ]
  },
  {
   "cell_type": "markdown",
   "id": "81a1c047",
   "metadata": {},
   "source": [
    "### Q1. What are the benefits of the built-in array package, if any?\n",
    "**Ans:** \n",
    "\n",
    "The Array is much more rigid. That is, the items that an array contains must be of the same type. Therefore, the size of the item will also be the same. We can check the size of each item.\n",
    "\n"
   ]
  },
  {
   "cell_type": "markdown",
   "id": "72b97146",
   "metadata": {},
   "source": [
    "### Q2. What are some of the array package's limitations ?\n",
    "**Ans:**  \n",
    "\n",
    "The number of elements to be stored in an array should be known in advance. An array is a static structure (which means the array is of fixed size). Once declared the size of the array cannot be modified. The memory which is allocated to it cannot be increased or decreased.\n",
    "\n",
    "Insertion and deletion are quite difficult in an array as the elements are stored in consecutive memory locations and the shifting operation is costly.\n",
    "\n",
    "Allocating more memory than the requirement leads to wastage of memory space and less allocation of memory also leads to a problem"
   ]
  },
  {
   "cell_type": "markdown",
   "id": "fd6c2a9b",
   "metadata": {},
   "source": [
    "### Q3. Describe the main differences between the array and numpy packages ?\n",
    "**Ans:**  \n",
    "\n",
    "The array package doesn't provide any help with numerical calculation with the items insdie it in number form while NumPy give you a wide variety of numerical operations.\n",
    "\n",
    "An array is a single dimensional entity which hold the numerical data, while numpy can have more than 1 dimension.\n",
    "\n",
    "In case of array, item can be accessed by its index position and it is easy task while in numpy item is accessed by its column and row index, which makes it slightly time taking. Same goes with appending operation.\n",
    "\n",
    "In case of array we do not form a tabular structure, while in numpy it forms a tabular structure "
   ]
  },
  {
   "cell_type": "markdown",
   "id": "17049af0",
   "metadata": {},
   "source": [
    "### Q4. Explain the distinctions between the empty, ones, and zeros functions ?\n",
    "**Ans:** \n",
    "\n",
    "The distinctions between the `empty`, `ones`, and `zero` functions are as follows :  \n",
    "- `Empty function:` An empty function is a function that does not contain any statement within its body. If you try to write a function definition without any statement in python ,it will return an error. To avoid this, we use pass statement. pass is a special statement in Python that does nothing. It only works as a dummy statement.  \n",
    "- `Ones:` This function returns a new array of given shape and data type, where the element’s value is 1.  \n",
    "- `Zeros:` This function returns a new array of given shape and data type, where the element’s value is 0.  "
   ]
  },
  {
   "cell_type": "markdown",
   "id": "59182103",
   "metadata": {},
   "source": [
    "### Q5. In the fromfunction function, which is used to construct new arrays, what is the role of the callable argument ?\n",
    "**Ans:**  \n",
    "\n",
    "`fromfunction()` function construct an array by executing a function over each coordinate and the resulting array, therefore, has a value fn(x, y, z) at coordinate (x, y, z). Parameters : function : [callable] The function is called with N parameters, where N is the rank of shape.\n",
    "\n"
   ]
  },
  {
   "cell_type": "markdown",
   "id": "82a330ed",
   "metadata": {},
   "source": [
    "### Q6. What happens when a numpy array is combined with a single-value operand (a scalar, such as an int or a floating-point value) through addition, as in the expression `A + n` ?\n",
    "**Ans:** \n",
    "\n",
    "If any scaler value such as integer is added to the numpy array then all the elements inside the array will add that value in it. "
   ]
  },
  {
   "cell_type": "code",
   "execution_count": 1,
   "id": "0aa8e595",
   "metadata": {},
   "outputs": [
    {
     "name": "stdout",
     "output_type": "stream",
     "text": [
      "[2 3 4 5 6]\n"
     ]
    }
   ],
   "source": [
    "import numpy as np\n",
    "\n",
    "arr = np.array((1, 2, 3, 4, 5))\n",
    "\n",
    "print(arr + 1)"
   ]
  },
  {
   "cell_type": "markdown",
   "id": "12e37586",
   "metadata": {},
   "source": [
    "### Q7. Can array-to-scalar operations use combined operation-assign operators (such as += or *=)? What is the outcome ?\n",
    "**Ans:**\n",
    "\n",
    "No, it won't."
   ]
  },
  {
   "cell_type": "code",
   "execution_count": 2,
   "id": "9667870e",
   "metadata": {},
   "outputs": [
    {
     "ename": "SyntaxError",
     "evalue": "invalid syntax (3130113566.py, line 5)",
     "output_type": "error",
     "traceback": [
      "\u001b[0;36m  File \u001b[0;32m\"/var/folders/t_/0xqnxt590_q3q2xk8hccdjg00000gn/T/ipykernel_1235/3130113566.py\"\u001b[0;36m, line \u001b[0;32m5\u001b[0m\n\u001b[0;31m    a = arr += 1\u001b[0m\n\u001b[0m            ^\u001b[0m\n\u001b[0;31mSyntaxError\u001b[0m\u001b[0;31m:\u001b[0m invalid syntax\n"
     ]
    }
   ],
   "source": [
    "#using scalar operations gives an error\n",
    "import numpy as np\n",
    "\n",
    "arr = np.array((1, 2, 3, 4, 5))\n",
    "a = arr += 1\n",
    "print(a)"
   ]
  },
  {
   "cell_type": "markdown",
   "id": "f9687fd2",
   "metadata": {},
   "source": [
    "### Q8. Does a numpy array contain fixed-length strings? What happens if you allocate a longer string to one of these arrays ?\n",
    "**Ans:** \n",
    "\n",
    "Yes, it is possible that we can include a string of fixed length in numpy array. \n",
    "\n",
    "NumPy arrays have a fixed size at creation, unlike Python lists (which can grow dynamically). Changing the size of an ndarray will create a new array and delete the original. The elements in a NumPy array are all required to be of the same data type, and thus will be the same size in memory. if longer strings is allocateed it might cause a computation problem basically increse the time complexity."
   ]
  },
  {
   "cell_type": "markdown",
   "id": "d5da8bbe",
   "metadata": {},
   "source": [
    "### Q9. What happens when you combine two numpy arrays using an operation like addition (+) or multiplication (*)? What are the conditions for combining two numpy arrays ?\n",
    "**Ans:**\n",
    "\n",
    "NumPy's concatenate function can be used to concatenate two arrays either row-wise or column-wise. Concatenate function can take two or more arrays of the same shape and by default it concatenates row-wise i.e. axis=0. The resulting array after row-wise concatenation is of the shape 6 x 3, i.e. 6 rows and 3 columns."
   ]
  },
  {
   "cell_type": "code",
   "execution_count": 3,
   "id": "e352f08a",
   "metadata": {},
   "outputs": [
    {
     "name": "stdout",
     "output_type": "stream",
     "text": [
      "[[ 6  8]\n",
      " [10 12]]\n",
      "\n",
      " [[ 5 12]\n",
      " [21 32]]\n"
     ]
    }
   ],
   "source": [
    "import numpy as np\n",
    "\n",
    "arr1 = np.array([[1, 2], [3, 4]])\n",
    "\n",
    "arr2 = np.array([[5, 6], [7, 8]])\n",
    "\n",
    "arr = arr1+arr2\n",
    "arr1 = arr1*arr2\n",
    "\n",
    "print(arr)\n",
    "print(\"\\n\",arr1)"
   ]
  },
  {
   "cell_type": "markdown",
   "id": "d350b416",
   "metadata": {},
   "source": [
    "### Q10. What is the best way to use a Boolean array to mask another array ?\n",
    "**Ans:** \n",
    "\n",
    "The best way to use a Boolean array to mask another array is by Using `masked_where` of numpy package\n",
    "\n",
    "Boolean masking is typically the most efficient way to quantify a sub-collection in a collection. Masking in python and data science is when you want manipulated data in a collection based on some criteria. The criteria you use is typically of a true or false nature, hence the boolean part.\n",
    "\n",
    "Using `masked_where()` function: Pass the two array in the function as a parameter then use numpy. ma. masked_where() function in which pass the condition for masking and array to be masked. \n",
    "\n",
    "Using `masked_where()`, `getmask()` and `masked_array()` function: Pass the two array in the function as a parameter then use numpy. ma."
   ]
  },
  {
   "cell_type": "markdown",
   "id": "b5401443",
   "metadata": {},
   "source": [
    "### Q11. What are three different ways to get the standard deviation of a wide collection of data using both standard Python and its packages? Sort the three of them by how quickly they execute ?\n",
    "**Ans:** \n",
    "\n",
    "`np.std` and math package can be used individually. one method is shown below standar then we can use pandas or using srpiting line by line to ding standard deviation.\n",
    "using pandas std() is generally nicer way and faster."
   ]
  },
  {
   "cell_type": "code",
   "execution_count": 4,
   "id": "9e8041ed",
   "metadata": {},
   "outputs": [
    {
     "data": {
      "text/plain": [
       "2.4"
      ]
     },
     "execution_count": 4,
     "metadata": {},
     "output_type": "execute_result"
    }
   ],
   "source": [
    "import math\n",
    "def variance(data, ddof=0):\n",
    "  n = len(data)\n",
    "  mean = sum(data) / n\n",
    "  return sum((x - mean) ** 2 for x in data) / (n - ddof)\n",
    "\n",
    "\n",
    "def stdev(data):\n",
    "  var = variance(data)\n",
    "  std_dev = math.sqrt(var)\n",
    "  return std_dev\n",
    "\n",
    "stdev([4, 8, 6, 5, 3, 2, 8, 9, 2, 5])\n",
    "\n"
   ]
  },
  {
   "cell_type": "markdown",
   "id": "2c49864a",
   "metadata": {},
   "source": [
    "### 12. What is the dimensionality of a Boolean mask-generated array ?\n",
    "**Ans:**\n",
    "\n",
    "It will have same dimensionality as input array."
   ]
  }
 ],
 "metadata": {
  "kernelspec": {
   "display_name": "Python 3 (ipykernel)",
   "language": "python",
   "name": "python3"
  },
  "language_info": {
   "codemirror_mode": {
    "name": "ipython",
    "version": 3
   },
   "file_extension": ".py",
   "mimetype": "text/x-python",
   "name": "python",
   "nbconvert_exporter": "python",
   "pygments_lexer": "ipython3",
   "version": "3.9.7"
  }
 },
 "nbformat": 4,
 "nbformat_minor": 5
}
