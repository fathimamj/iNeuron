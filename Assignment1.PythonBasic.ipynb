{
 "cells": [
  {
   "cell_type": "markdown",
   "id": "e9ca8a36",
   "metadata": {},
   "source": [
    "##### 1. In the below elements which of them are values or an expression? eg:- values can be integer or string and expressions will be mathematical operators.\n",
    "\n",
    "Expressions-  *,-,+,/\n",
    "\n",
    "Value- 'hello', -87.8,6 "
   ]
  },
  {
   "cell_type": "markdown",
   "id": "0d9c02e9",
   "metadata": {},
   "source": [
    "##### 2. What is the difference between string and variable?\n",
    "\n",
    "A string is a literal text enclosed within single or double quotes, eg. 'Hello, this is my assignment 1'.\n",
    "\n",
    "A variable is something that stores data. It can store a string, int, float, class, bool, complex etc."
   ]
  },
  {
   "cell_type": "markdown",
   "id": "910d74a4",
   "metadata": {},
   "source": [
    "##### 3. Describe three different data types.\n",
    "\n",
    "i.INTEGERS- These are integers values that can be positive or negative and do not contain any decimal point.The integer type in Python is called int. \n",
    "\n",
    "eg. a=5\n",
    "\n",
    "\n",
    "ii.STRING- A string is a sequence of characters enclosed in single quotes double quotes or triple quotes. The character present in a string can be any digit, letter, special symbols, or white spaces.A string can contain as many characters as you wish. String in python is an immutable data type that is once a value is assigned to the variable it cannot be changed later. The string type in Python is called str. \n",
    "\n",
    "eg. 'Hello, this is my assignment 1'\n",
    "\n",
    "\n",
    "\n",
    "iii.FLOATING POINT NUMBER- These are floating-point real numbers that stores the decimal values. It consists of integer and fraction parts.The floating point number type in Python is called float. \n",
    "\n",
    "eg c= 3.2"
   ]
  },
  {
   "cell_type": "markdown",
   "id": "c55a60c8",
   "metadata": {},
   "source": [
    "##### 4. What is an expression made up of? What do all expressions do?\n",
    "\n",
    "An expression is made up of operands(variables or constants) and operators. All expression evaluate to a single value.\n"
   ]
  },
  {
   "cell_type": "markdown",
   "id": "6ffea40d",
   "metadata": {},
   "source": [
    "##### 5. This assignment statements, like spam = 10. What is the difference between an expression and a statement?\n",
    "\n",
    "A statement executes something and changes the value of the variable, whereas an expression evaluates to a certain value, but does not change original value. Like in this statement, the variable spam holds the new value 10. If we take an expression for example, spam + 10 , we will have an output as 20 but the value of our variable remains the same.\n",
    "Also, an expression may or may not be a statement, but a statement is always an expression."
   ]
  },
  {
   "cell_type": "markdown",
   "id": "73d54652",
   "metadata": {},
   "source": [
    "##### 6. After running the following code, what does the variable bacon contain?\n",
    "bacon = 22\n",
    "\n",
    "bacon + 1\n",
    "\n",
    "The variable bacon holds the value 22."
   ]
  },
  {
   "cell_type": "markdown",
   "id": "e90861fc",
   "metadata": {},
   "source": [
    "##### 7. What should the values of the following two terms be?\n",
    "\n",
    "'spam' + 'spamspam'   =    'spamspamspam'\n",
    "'spam' * 3            =    'spamspamspam'"
   ]
  },
  {
   "cell_type": "markdown",
   "id": "c89828d1",
   "metadata": {},
   "source": [
    "##### 8. Why is eggs a valid variable name while 100 is invalid?\n",
    "\n",
    "Variables must only start with letters or underscore, not numbers. The variable eggs satisfies all the conditions of variables whereas 100 does not. "
   ]
  },
  {
   "cell_type": "markdown",
   "id": "4065ea0a",
   "metadata": {},
   "source": [
    "##### 9. What three functions can be used to get the integer, floating-point number, or string version of a value?\n",
    "\n",
    "int() to get the integer value\n",
    "\n",
    "float() to get the float value\n",
    "\n",
    "str() to get the string value"
   ]
  },
  {
   "cell_type": "markdown",
   "id": "b5e3c464",
   "metadata": {},
   "source": [
    "##### 10. Why does this expression cause an error? How can you fix it?\n",
    "'I have eaten' + 99 + 'burritos.'\n",
    "\n",
    "Concatenation of strings and numbers shows an error due to difference in data types. Concatenation can be done by converting the number into a string by putting them with quotes as following:\n",
    "\n",
    "'I have eaten' + '99' + 'burritos.'\n",
    "\n",
    "OR\n",
    "\n",
    "'I have eaten' + str(99) + 'burritos.'"
   ]
  },
  {
   "cell_type": "code",
   "execution_count": null,
   "id": "661977fa",
   "metadata": {},
   "outputs": [],
   "source": []
  }
 ],
 "metadata": {
  "kernelspec": {
   "display_name": "Python 3",
   "language": "python",
   "name": "python3"
  },
  "language_info": {
   "codemirror_mode": {
    "name": "ipython",
    "version": 3
   },
   "file_extension": ".py",
   "mimetype": "text/x-python",
   "name": "python",
   "nbconvert_exporter": "python",
   "pygments_lexer": "ipython3",
   "version": "3.8.8"
  }
 },
 "nbformat": 4,
 "nbformat_minor": 5
}
