{
 "cells": [
  {
   "cell_type": "markdown",
   "id": "c3f881ef",
   "metadata": {},
   "source": [
    "# Python Programming Basic Assignment\n",
    "## Assignment - 14 [ FSDS NOV 21 ]"
   ]
  },
  {
   "cell_type": "markdown",
   "id": "26f96cce",
   "metadata": {},
   "source": [
    "### 1.Define a class with a generator which can iterate the numbers, which are divisible by 7, between a given range 0 and n. ?"
   ]
  },
  {
   "cell_type": "code",
   "execution_count": 1,
   "id": "72acae67",
   "metadata": {},
   "outputs": [
    {
     "name": "stdout",
     "output_type": "stream",
     "text": [
      "7 14 21 28 35 42 49 56 63 70 77 84 91 98 "
     ]
    }
   ],
   "source": [
    "class Multiple_7:\n",
    "    \n",
    "    def __init__(self, start = 1, end = 100):\n",
    "        self.end = end\n",
    "        self.val = start - 1\n",
    "        \n",
    "    def __iter__(self):\n",
    "        if self.val % 7 == 0:\n",
    "            return self\n",
    "    \n",
    "    def __next__(self):\n",
    "        while True:\n",
    "            if self.val == self.end:\n",
    "                raise StopIteration\n",
    "            self.val += 1\n",
    "            if self.val % 7 == 0:\n",
    "                return self.val\n",
    "        \n",
    "for i in Multiple_7():\n",
    "    print(i, end =\" \")"
   ]
  },
  {
   "cell_type": "markdown",
   "id": "2eb406d4",
   "metadata": {},
   "source": [
    "### 2.Write a program to compute the frequency of the words from the input. The output should output after sorting the key alphanumerically. \n",
    "Suppose the following input is supplied to the program:   \n",
    "`New to Python or choosing between Python 2 and Python 3? Read Python 2 or Python 3.`  \n",
    "Then, the output should be:  \n",
    "`2:2 3.:1 3?:1 New:1 Python:5 Read:1 and:1 between:1 choosing:1 or:2 to:1`"
   ]
  },
  {
   "cell_type": "code",
   "execution_count": 3,
   "id": "22b0f56f",
   "metadata": {},
   "outputs": [
    {
     "name": "stdout",
     "output_type": "stream",
     "text": [
      "Enter the string: New to Python or choosing between Python 2 and Python 3? Read Python 2 or Python 3\n",
      "2 : 2 | 3 : 1 | 3? : 1 | New : 1 | Python : 5 | Read : 1 | and : 1 | between : 1 | choosing : 1 | or : 2 | to : 1 | "
     ]
    }
   ],
   "source": [
    "input_string = str(input(\"Enter the string: \")).split()\n",
    "frequency_check = sorted(set(input_string))\n",
    "\n",
    "for i in frequency_check:\n",
    "    print(f\"{i} : {input_string.count(i)}\", end=\" | \")"
   ]
  },
  {
   "cell_type": "markdown",
   "id": "a5f6f43e",
   "metadata": {},
   "source": [
    "### 3.Define a class Person and its two child classes: Male and Female. All classes have a method \"getGender\" which can print \"Male\" for Male class and \"Female\" for Female class. ?"
   ]
  },
  {
   "cell_type": "code",
   "execution_count": 3,
   "id": "b28ef752",
   "metadata": {},
   "outputs": [
    {
     "name": "stdout",
     "output_type": "stream",
     "text": [
      "Male\n",
      "Female\n"
     ]
    }
   ],
   "source": [
    "class Person():\n",
    "    def getGender():\n",
    "        pass\n",
    "    \n",
    "class Male(Person):\n",
    "    def getGender():\n",
    "        print(\"Male\")\n",
    "        \n",
    "class Female(Person):\n",
    "    def getGender():\n",
    "        print(\"Female\")\n",
    "\n",
    "Male.getGender()\n",
    "Female.getGender()"
   ]
  },
  {
   "cell_type": "markdown",
   "id": "edf0f4be",
   "metadata": {},
   "source": [
    "### 4.Please write a program to generate all sentences where subject is in [\"I\", \"You\"] and verb is in [\"Play\", \"Love\"] and the object is in [\"Hockey\",\"Football\"] ?"
   ]
  },
  {
   "cell_type": "code",
   "execution_count": 4,
   "id": "20d6fe7d",
   "metadata": {},
   "outputs": [
    {
     "name": "stdout",
     "output_type": "stream",
     "text": [
      "I Play Hockey\n",
      "I Play Football\n",
      "I Love Hockey\n",
      "I Love Football\n",
      "You Play Hockey\n",
      "You Play Football\n",
      "You Love Hockey\n",
      "You Love Football\n"
     ]
    }
   ],
   "source": [
    "subject=[\"I\", \"You\"]\n",
    "verb=[\"Play\", \"Love\"]\n",
    "obj=[\"Hockey\",\"Football\"]\n",
    "\n",
    "sentence_list = []\n",
    "\n",
    "for i in subject:\n",
    "    for j in verb:\n",
    "        for k in obj:\n",
    "            sentence_list.append(i + \" \" + j + \" \" + k)\n",
    "            \n",
    "for sentence in sentence_list:\n",
    "    print(sentence)"
   ]
  },
  {
   "cell_type": "markdown",
   "id": "6e02a631",
   "metadata": {},
   "source": [
    "### 5.Please write a program to compress and decompress the string \"hello world!hello world!hello world!hello world!\" ?"
   ]
  },
  {
   "cell_type": "code",
   "execution_count": 6,
   "id": "e968e1dd",
   "metadata": {},
   "outputs": [
    {
     "name": "stdout",
     "output_type": "stream",
     "text": [
      "b'x\\x9c\\xcbH\\xcd\\xc9\\xc9W(\\xcf/\\xcaIQ\\xcc \\x82\\r\\x00\\xbd[\\x11\\xf5'\n",
      "b'hello world!hello world!hello world!hello world!'\n"
     ]
    }
   ],
   "source": [
    "import zlib\n",
    "str = 'hello world!hello world!hello world!hello world!'\n",
    "a = bytes(str, 'utf-8')\n",
    "b = zlib.compress(a)\n",
    "print(b)\n",
    "print(zlib.decompress(b))"
   ]
  },
  {
   "cell_type": "markdown",
   "id": "52513bb3",
   "metadata": {},
   "source": [
    "### 6.Please write a binary search function which searches an item in a sorted list. The function should return the index of element to be searched in the list ?"
   ]
  },
  {
   "cell_type": "code",
   "execution_count": 7,
   "id": "13e747f8",
   "metadata": {},
   "outputs": [
    {
     "name": "stdout",
     "output_type": "stream",
     "text": [
      "[2, 4, 12, 21, 31]\n"
     ]
    },
    {
     "data": {
      "text/plain": [
       "0"
      ]
     },
     "execution_count": 7,
     "metadata": {},
     "output_type": "execute_result"
    }
   ],
   "source": [
    "def binary_search(l,n):\n",
    "    low = 0\n",
    "    high = len(l)-1\n",
    "\n",
    "    \n",
    "    while low<=high:\n",
    "        mid = (low+high)//2\n",
    "        \n",
    "        if l[mid]<n:\n",
    "            low = mid+1\n",
    "        elif l[mid]>n:\n",
    "            high = mid-1\n",
    "        else:\n",
    "            return mid\n",
    "    return \"element not in list\"\n",
    "\n",
    "l = [12,4,2,31,21]\n",
    "l.sort()\n",
    "print(l)\n",
    "binary_search(l,2)"
   ]
  },
  {
   "cell_type": "code",
   "execution_count": 8,
   "id": "1144ec90",
   "metadata": {},
   "outputs": [
    {
     "data": {
      "text/plain": [
       "'element not in list'"
      ]
     },
     "execution_count": 8,
     "metadata": {},
     "output_type": "execute_result"
    }
   ],
   "source": [
    "binary_search(l,5)"
   ]
  },
  {
   "cell_type": "code",
   "execution_count": null,
   "id": "3106edf7",
   "metadata": {},
   "outputs": [],
   "source": []
  }
 ],
 "metadata": {
  "kernelspec": {
   "display_name": "Python 3 (ipykernel)",
   "language": "python",
   "name": "python3"
  },
  "language_info": {
   "codemirror_mode": {
    "name": "ipython",
    "version": 3
   },
   "file_extension": ".py",
   "mimetype": "text/x-python",
   "name": "python",
   "nbconvert_exporter": "python",
   "pygments_lexer": "ipython3",
   "version": "3.9.7"
  }
 },
 "nbformat": 4,
 "nbformat_minor": 5
}
