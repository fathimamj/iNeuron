{
 "cells": [
  {
   "cell_type": "markdown",
   "id": "e0510b5b",
   "metadata": {},
   "source": [
    "##### 1.What are the two values of the Boolean data type? How do you write them?\n",
    "\n",
    "True and False are the two values of the Boolean data type. We write them as True and False. (Capital T and F )"
   ]
  },
  {
   "cell_type": "markdown",
   "id": "8e55534a",
   "metadata": {},
   "source": [
    "##### 2. What are the three different types of Boolean operators?\n",
    "\n",
    "The three different types of Boolean operators are:\n",
    "\n",
    "1. and\n",
    "2. or\n",
    "3. not"
   ]
  },
  {
   "cell_type": "markdown",
   "id": "b1e10f2b",
   "metadata": {},
   "source": [
    "##### 3. Make a list of each Boolean operator's truth tables (i.e. every possible combination of Boolean values for the operator and what it evaluate ).\n",
    "\n",
    "for operator and:\n",
    "1. True and True is True.\n",
    "2. True and False is False.\n",
    "3. False and True is False.\n",
    "4. False and False is False.\n",
    "\n",
    "\n",
    "\n",
    "for operator or:\n",
    "1. True or True is True.\n",
    "2. True or False is True.\n",
    "3. False or True is True.\n",
    "4. False or False is False.\n",
    "\n",
    "for operator not:\n",
    "1. not True is False.\n",
    "2. not False is True."
   ]
  },
  {
   "cell_type": "markdown",
   "id": "8c84e49e",
   "metadata": {},
   "source": [
    "##### 4. What are the values of the following expressions?\n",
    "1. (5 > 4) and (3 == 5)\n",
    "2. not (5 > 4)\n",
    "3. (5 > 4) or (3 == 5)\n",
    "4. not ((5 > 4) or (3 == 5))\n",
    "5. (True and True) and (True == False)\n",
    "6. (not False) or (not True)"
   ]
  },
  {
   "cell_type": "code",
   "execution_count": 1,
   "id": "e3bdd718",
   "metadata": {},
   "outputs": [
    {
     "name": "stdout",
     "output_type": "stream",
     "text": [
      "1. False\n",
      "2. False\n",
      "3. True\n",
      "4. False\n",
      "5. False\n",
      "6. True\n"
     ]
    }
   ],
   "source": [
    "print( '1.',(5 > 4) and (3 == 5))\n",
    "print('2.', not (5 > 4))\n",
    "print('3.',(5 > 4) or (3 == 5))\n",
    "print('4.',not ((5 > 4) or (3 == 5)))\n",
    "print('5.',(True and True) and (True == False))\n",
    "print('6.',(not False) or (not True))"
   ]
  },
  {
   "cell_type": "markdown",
   "id": "e56062ca",
   "metadata": {},
   "source": [
    "##### 5. What are the six comparison operators?\n",
    "1. Equal to:               ==\n",
    "2. Not equal to:           !=\n",
    "3. Less than:               <\n",
    "4. Greater than:            >\n",
    "5. Less than equal to:     <=\n",
    "6. Greater than equal to:  >="
   ]
  },
  {
   "cell_type": "markdown",
   "id": "1d4b29e4",
   "metadata": {},
   "source": [
    "##### 6. How do you tell the difference between the equal to and assignment operators?Describe a condition and when you would use one.\n",
    "\n",
    "The assignment operator (=) is used to assign the value on the right to the variable on the left.\n",
    "\n",
    "eg. a = 10 (Here the variable a is assigned the value 10)\n",
    "\n",
    "\n",
    "Whereas the equal to operator (==) checks whether the two given operands are equal or not. If so, it returns true. Otherwise it returns false.\n",
    "\n",
    "eg. 5==5 (Here it will check if the left hand side and the right hand side values are equal or not. In this case the output would be True.)\n"
   ]
  },
  {
   "cell_type": "markdown",
   "id": "bf69664f",
   "metadata": {},
   "source": [
    "##### 7. Identify the three blocks in this code:"
   ]
  },
  {
   "cell_type": "code",
   "execution_count": 2,
   "id": "2ed05cd1",
   "metadata": {},
   "outputs": [
    {
     "name": "stdout",
     "output_type": "stream",
     "text": [
      "ham\n",
      "spam\n"
     ]
    }
   ],
   "source": [
    "spam = 0\n",
    "if spam == 10:\n",
    "    print('eggs')\n",
    "if spam > 5:\n",
    "    print('bacon')\n",
    "else:\n",
    "    print('ham') \n",
    "print('spam')"
   ]
  },
  {
   "cell_type": "markdown",
   "id": "f4a2f359",
   "metadata": {},
   "source": [
    "#####  8. Write code that prints Hello if 1 is stored in spam, prints Howdy if 2 is stored in spam, and prints Greetings! if anything else is stored in spam."
   ]
  },
  {
   "cell_type": "code",
   "execution_count": 3,
   "id": "fc0e304b",
   "metadata": {},
   "outputs": [
    {
     "name": "stdout",
     "output_type": "stream",
     "text": [
      "Greetings!\n"
     ]
    }
   ],
   "source": [
    "if spam == 1:\n",
    "    print('Hello')\n",
    "if spam ==2:\n",
    "    print('Howdy')\n",
    "else:\n",
    "    print('Greetings!') \n"
   ]
  },
  {
   "cell_type": "markdown",
   "id": "7ac4e402",
   "metadata": {},
   "source": [
    "##### 9.If your programme is stuck in an endless loop, what keys you’ll press?\n",
    "\n",
    "We will press the CTRL-C key to stop the infinite loop."
   ]
  },
  {
   "cell_type": "markdown",
   "id": "a6d26b7b",
   "metadata": {},
   "source": [
    "##### 10. How can you tell the difference between break and continue?\n",
    "\n",
    "The break statement will stop executing the loop further and would execute codes outside the loop.\n",
    "\n",
    "The continue statement will move the execution to the start of the loop.\n"
   ]
  },
  {
   "cell_type": "markdown",
   "id": "ab17422f",
   "metadata": {},
   "source": [
    "##### 11. In a for loop, what is the difference between range(10), range(0, 10), and range(0, 10, 1)?\n",
    "\n",
    " They are all the same. The range(10) call ranges from 0 up to 10(excluding 10), range(0, 10) explicitly tells the loop to start from 0 to 10, and range(0, 10, 1) explicitly tells the loop to increase the variable by 1 on each iteration."
   ]
  },
  {
   "cell_type": "markdown",
   "id": "e1b1737b",
   "metadata": {},
   "source": [
    "##### 12. Write a short program that prints the numbers 1 to 10 using a for loop. Then write an equivalent program that prints the numbers 1 to 10 using a while loop.\n"
   ]
  },
  {
   "cell_type": "code",
   "execution_count": 4,
   "id": "4a664f9c",
   "metadata": {},
   "outputs": [
    {
     "name": "stdout",
     "output_type": "stream",
     "text": [
      "1 2 3 4 5 6 7 8 9 10 "
     ]
    }
   ],
   "source": [
    "for i in range(1,11):\n",
    "    print(i,end=' ')"
   ]
  },
  {
   "cell_type": "code",
   "execution_count": 5,
   "id": "31f90c7e",
   "metadata": {},
   "outputs": [
    {
     "name": "stdout",
     "output_type": "stream",
     "text": [
      "0 1 2 3 4 5 6 7 8 9 10 "
     ]
    }
   ],
   "source": [
    "i=0\n",
    "while i<11:\n",
    "    print(i,end=' ')\n",
    "    i+=1"
   ]
  },
  {
   "cell_type": "markdown",
   "id": "e7c2ce2a",
   "metadata": {},
   "source": [
    "##### 13. If you had a function named bacon() inside a module named spam, how would you call it after importing spam?\n",
    "\n",
    "We can call the function using spam.bacon()"
   ]
  }
 ],
 "metadata": {
  "kernelspec": {
   "display_name": "Python 3",
   "language": "python",
   "name": "python3"
  },
  "language_info": {
   "codemirror_mode": {
    "name": "ipython",
    "version": 3
   },
   "file_extension": ".py",
   "mimetype": "text/x-python",
   "name": "python",
   "nbconvert_exporter": "python",
   "pygments_lexer": "ipython3",
   "version": "3.8.8"
  }
 },
 "nbformat": 4,
 "nbformat_minor": 5
}
