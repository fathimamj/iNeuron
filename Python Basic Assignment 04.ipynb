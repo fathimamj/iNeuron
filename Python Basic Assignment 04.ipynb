{
 "cells": [
  {
   "cell_type": "markdown",
   "id": "21565c99",
   "metadata": {},
   "source": [
    "# Python Basic Assignment\n",
    "## Assignment - 4 [ FSDS NOV 21 ]"
   ]
  },
  {
   "cell_type": "markdown",
   "id": "cf105066",
   "metadata": {},
   "source": [
    "### 1.What exactly is `[ ]`?\n",
    "**Ans**: \n",
    "\n",
    "The square brackets can be used to create list with the list elements inside `[]` separated by commas.\n",
    "\n",
    "`[]` is also returned as the result if the list is empty i.e. the list has no items.\n",
    "\n",
    "The empty list represented by `[]` is a list that contains no items. This is similar to `''` which represents an empty string\n"
   ]
  },
  {
   "cell_type": "markdown",
   "id": "023dcb5d",
   "metadata": {},
   "source": [
    "### 2.In a list of values stored in a variable called spam, how would you assign the value 'hello' as the third value? (Assume [2, 4, 6, 8, 10] are in spam.) \n",
    "**Ans:** `spam[2]='hello'` (Note: Lists follows zero based indexing)"
   ]
  },
  {
   "cell_type": "code",
   "execution_count": 1,
   "id": "ded4ed80",
   "metadata": {},
   "outputs": [
    {
     "data": {
      "text/plain": [
       "[2, 4, 'Hello', 8, 10]"
      ]
     },
     "execution_count": 1,
     "metadata": {},
     "output_type": "execute_result"
    }
   ],
   "source": [
    "spam = [2,4,6,8,10]\n",
    "\n",
    "spam[2] = 'Hello'\n",
    "\n",
    "spam"
   ]
  },
  {
   "cell_type": "markdown",
   "id": "559c0e23",
   "metadata": {},
   "source": [
    "As the list index starts with 0 \n",
    "\n",
    "So to change the third value we have use 2 as the index value\n",
    "\n",
    "Also since list are mutable in nature, the values of the list can be changed once defined"
   ]
  },
  {
   "cell_type": "markdown",
   "id": "1611d634",
   "metadata": {},
   "source": [
    "### Let's pretend the spam includes the list ['a','b','c',d'] for the next three queries."
   ]
  },
  {
   "cell_type": "code",
   "execution_count": 3,
   "id": "d8234106",
   "metadata": {},
   "outputs": [],
   "source": [
    "spam = ['a','b','c','d']"
   ]
  },
  {
   "cell_type": "markdown",
   "id": "becfb81b",
   "metadata": {},
   "source": [
    "### 3. What is the value of `spam[int(int('3'*2)//11)]` ?\n",
    "**Ans:** `'d'` (Note that '3' * 2 is the string '33', which is passed to int() before being divided by 11.\n",
    "     This eventually evaluates to 3, `spam[3]` is equal to `d`.)\n",
    "     \n",
    "- '3'**2 will give '33'\n",
    "- int('33') will be 33\n",
    "- 33/11 will be 3.0\n",
    "- int(3.0) will give 3\n",
    "- spam[3] will be value at index 3 that is 'd'"
   ]
  },
  {
   "cell_type": "code",
   "execution_count": 6,
   "id": "edbc2152",
   "metadata": {},
   "outputs": [
    {
     "data": {
      "text/plain": [
       "'d'"
      ]
     },
     "execution_count": 6,
     "metadata": {},
     "output_type": "execute_result"
    }
   ],
   "source": [
    "spam[int(int('3'* 2) / 11)]"
   ]
  },
  {
   "cell_type": "markdown",
   "id": "f62fd342",
   "metadata": {},
   "source": [
    "### 4. What is the value of spam[-1]?\n",
    "**Ans:** `'d'` (Lists support Negative indexing, Hence `spam[-1]` returns `'d'`)"
   ]
  },
  {
   "cell_type": "code",
   "execution_count": 7,
   "id": "db7ce3db",
   "metadata": {},
   "outputs": [
    {
     "data": {
      "text/plain": [
       "'d'"
      ]
     },
     "execution_count": 7,
     "metadata": {},
     "output_type": "execute_result"
    }
   ],
   "source": [
    "spam[-1]"
   ]
  },
  {
   "cell_type": "markdown",
   "id": "6aa6e20f",
   "metadata": {},
   "source": [
    "### 5. What is the value of spam[:2]?\n",
    "**Ans:** `['a', 'b']`\n",
    "\n",
    "`spam[:2]` returns all elements in the list spam from 0 to 2 excluding 2"
   ]
  },
  {
   "cell_type": "code",
   "execution_count": 8,
   "id": "28a64d77",
   "metadata": {},
   "outputs": [
    {
     "data": {
      "text/plain": [
       "['a', 'b']"
      ]
     },
     "execution_count": 8,
     "metadata": {},
     "output_type": "execute_result"
    }
   ],
   "source": [
    "spam[:2]"
   ]
  },
  {
   "cell_type": "markdown",
   "id": "9dca6912",
   "metadata": {},
   "source": [
    "### Let's pretend bacon has the list [3.14,'cat',11,'cat',True] for the next three question"
   ]
  },
  {
   "cell_type": "markdown",
   "id": "e380b1ae",
   "metadata": {},
   "source": [
    "### 6. What is the value of bacon.index('cat')?\n",
    "\n",
    "**Ans:** \n",
    "\n",
    "The value of `bacon.index('cat')` is `1` (Note: index method returns the index of first occuerence of `'cat'`)"
   ]
  },
  {
   "cell_type": "code",
   "execution_count": 1,
   "id": "2a44e38e",
   "metadata": {},
   "outputs": [
    {
     "name": "stdout",
     "output_type": "stream",
     "text": [
      "bacon.index('cat') -> 1\n"
     ]
    }
   ],
   "source": [
    "bacon=[3.14,'cat',11,'cat',True]\n",
    "print(\"bacon.index('cat') ->\",bacon.index('cat'))"
   ]
  },
  {
   "cell_type": "markdown",
   "id": "4b740523",
   "metadata": {},
   "source": [
    "### 7. How does bacon.append(99) change the look of the list value in bacon?\n",
    "**Ans:**  \n",
    "\n",
    "The `append` method adds new elements to the end of the list"
   ]
  },
  {
   "cell_type": "code",
   "execution_count": 2,
   "id": "89750fc1",
   "metadata": {},
   "outputs": [
    {
     "name": "stdout",
     "output_type": "stream",
     "text": [
      "[3.14, 'cat', 11, 'cat', True]\n",
      "[3.14, 'cat', 11, 'cat', True, 99]\n"
     ]
    }
   ],
   "source": [
    "# Example\n",
    "print(bacon)\n",
    "bacon.append(99) # appends 99 to the end of the list\n",
    "print(bacon)"
   ]
  },
  {
   "cell_type": "markdown",
   "id": "8042cecb",
   "metadata": {},
   "source": [
    "### 8. How does bacon.remove('cat') change the look of the list in bacon?\n",
    "\n",
    "**Ans:** \n",
    "\n",
    "The `remove` method removes the first occurence of the element in the list"
   ]
  },
  {
   "cell_type": "code",
   "execution_count": 3,
   "id": "53726df4",
   "metadata": {},
   "outputs": [
    {
     "name": "stdout",
     "output_type": "stream",
     "text": [
      "[3.14, 'cat', 11, 'cat', True, 99]\n",
      "[3.14, 11, 'cat', True, 99]\n"
     ]
    }
   ],
   "source": [
    "print(bacon)\n",
    "bacon.remove('cat')\n",
    "print(bacon)"
   ]
  },
  {
   "cell_type": "markdown",
   "id": "38d8c387",
   "metadata": {},
   "source": [
    "### 9.what are the list concatenation and list replication operations?\n",
    "**Ans:**\n",
    "\n",
    "The operator for list concatenation is `+`, while the operator for replication is `*`. (This is the same as for strings.)"
   ]
  },
  {
   "cell_type": "code",
   "execution_count": 4,
   "id": "ffaaf6a3",
   "metadata": {},
   "outputs": [
    {
     "name": "stdout",
     "output_type": "stream",
     "text": [
      "['ML', 'DL', 'AI', 'CV', 'NLP', 'RNN', 'CNN', 'SVN']\n",
      "['RNN', 'CNN', 'SVN', 'RNN', 'CNN', 'SVN']\n"
     ]
    }
   ],
   "source": [
    "# Example\n",
    "list_1 = ['ML','DL','AI','CV','NLP']\n",
    "list_2 = ['RNN','CNN','SVN']\n",
    "print(list_1 + list_2) # List Concatenation\n",
    "print(list_2*2) # List Replication"
   ]
  },
  {
   "cell_type": "markdown",
   "id": "ccf298a1",
   "metadata": {},
   "source": [
    "### 10.what is the difference between the list method `append()` and `insert()`?\n",
    "\n",
    "**Ans:**\n",
    "\n",
    "While `append()` will add values only to the end of a list, `insert()` can add them at specified position in the list."
   ]
  },
  {
   "cell_type": "code",
   "execution_count": 5,
   "id": "89326ebd",
   "metadata": {},
   "outputs": [
    {
     "name": "stdout",
     "output_type": "stream",
     "text": [
      "[1, 2, 3, 4, 5, 6]\n",
      "[1, 2, 'Demo', 3, 4, 5, 6]\n"
     ]
    }
   ],
   "source": [
    "#Examples\n",
    "demo_list = [1,2,3,4,5]\n",
    "demo_list.append(6)\n",
    "print(demo_list)\n",
    "demo_list.insert(2,'Demo')\n",
    "print(demo_list)"
   ]
  },
  {
   "cell_type": "markdown",
   "id": "f85f1682",
   "metadata": {},
   "source": [
    "### 11. What are the two methods for removing items from a list?\n",
    "\n",
    "**Ans:** \n",
    "\n",
    "The `pop()` and the `remove()` method are two ways to remove values from a list\n",
    "\n",
    "* `POP()` : Removes the last element from the list    \n",
    "* `REMOVE()` : Removes the first occurance of the specified element"
   ]
  },
  {
   "cell_type": "code",
   "execution_count": 6,
   "id": "96e9b0a4",
   "metadata": {},
   "outputs": [
    {
     "name": "stdout",
     "output_type": "stream",
     "text": [
      "[1, 2, 3, 4]\n",
      "[1, 2, 3]\n"
     ]
    }
   ],
   "source": [
    "demo_list = [1, 2, 3, 4, 5]\n",
    "\n",
    "demo_list.pop()\n",
    "\n",
    "print(demo_list)\n",
    "\n",
    "demo_list.remove(4)\n",
    "\n",
    "print(demo_list)\n",
    "\n"
   ]
  },
  {
   "cell_type": "markdown",
   "id": "fed51784",
   "metadata": {},
   "source": [
    "### 12. Describe how list values and string values are identical.\n",
    "\n",
    "**Ans:**  \n",
    "\n",
    "Both lists and strings can be passed to `len()` function, have indexes and slices, can be iterate, can be concatenated or replicated, and can be used with the `in` and `not in` operators."
   ]
  },
  {
   "cell_type": "markdown",
   "id": "af2212a4",
   "metadata": {},
   "source": [
    "### 13. What's the difference between tuples and lists?\n",
    "\n",
    "**Ans:** \n",
    "\n",
    "Lists are `Mutable`, `Indexable` and `Slicable`. they can have values added, removed, or changed.\n",
    "\n",
    "Tuples are `Immutable` but `Indexable` and `Slicable`. the tuple values cannot be changed at all. \n",
    "\n",
    "Also, tuples are represented using parentheses, `()`, while lists use the square brackets, `[]`. \n",
    "\n",
    "List consume more memory to stored data as they are mutable , Tuples consumes less memory"
   ]
  },
  {
   "cell_type": "markdown",
   "id": "7a1725e8",
   "metadata": {},
   "source": [
    "### 14. How do you type a tuple value that only contains the integer 42?\n",
    "\n",
    "**Ans:**\n",
    "\n",
    "* (42,) **(The trailing comma is mandatory. otherwise its considered as a int by python Interpreter)**"
   ]
  },
  {
   "cell_type": "code",
   "execution_count": 7,
   "id": "8bf19b7a",
   "metadata": {},
   "outputs": [
    {
     "name": "stdout",
     "output_type": "stream",
     "text": [
      "<class 'int'>\n",
      "<class 'tuple'>\n"
     ]
    }
   ],
   "source": [
    "demo_tpl1=(42)\n",
    "demo_tpl2 = (42,)\n",
    "print(type(demo_tpl1))\n",
    "print(type(demo_tpl2))\n",
    "\n"
   ]
  },
  {
   "cell_type": "markdown",
   "id": "58c1cfe9",
   "metadata": {},
   "source": [
    "### 15. How do you get a list value's tuple form? How do you get a tuple value's list form?\n",
    "\n",
    "**Ans:**  \n",
    "\n",
    "The `tuple()` and `list()` functions, respectively are used to convert a list to tuple and vice versa"
   ]
  },
  {
   "cell_type": "code",
   "execution_count": 8,
   "id": "26c7b849",
   "metadata": {},
   "outputs": [
    {
     "name": "stdout",
     "output_type": "stream",
     "text": [
      "<class 'tuple'>\n"
     ]
    },
    {
     "data": {
      "text/plain": [
       "(1, 2, 3, 4, 5, 6)"
      ]
     },
     "execution_count": 8,
     "metadata": {},
     "output_type": "execute_result"
    }
   ],
   "source": [
    "# List --> Tuple\n",
    "a_list = [1, 2, 3, 4, 5, 6]\n",
    "\n",
    "a_tuple = tuple(a_list)\n",
    "\n",
    "print(type(a_tuple))\n",
    "a_tuple\n",
    "\n"
   ]
  },
  {
   "cell_type": "code",
   "execution_count": 9,
   "id": "8a0742c0",
   "metadata": {},
   "outputs": [
    {
     "name": "stdout",
     "output_type": "stream",
     "text": [
      "<class 'list'>\n"
     ]
    },
    {
     "data": {
      "text/plain": [
       "[1, 2, 3, 4, 5, 6]"
      ]
     },
     "execution_count": 9,
     "metadata": {},
     "output_type": "execute_result"
    }
   ],
   "source": [
    "# Tuple --> List\n",
    "a_tuple = (1, 2, 3, 4, 5, 6)\n",
    "\n",
    "a_list = list(a_tuple)\n",
    "\n",
    "print(type(a_list))\n",
    "a_list\n",
    "\n"
   ]
  },
  {
   "cell_type": "markdown",
   "id": "8f2fbf75",
   "metadata": {},
   "source": [
    "### 16. Variables that &quot;contain&quot; list values are not necessarily lists themselves. Instead, what do they contain?\n",
    "\n",
    "**Ans:**  \n",
    "\n",
    "They contain references to list values."
   ]
  },
  {
   "cell_type": "code",
   "execution_count": 10,
   "id": "5ce5c884",
   "metadata": {},
   "outputs": [
    {
     "data": {
      "text/plain": [
       "list"
      ]
     },
     "execution_count": 10,
     "metadata": {},
     "output_type": "execute_result"
    }
   ],
   "source": [
    "a = [1, 2, 3]\n",
    "type(a)\n",
    "#its just a name reference because list itself is a object."
   ]
  },
  {
   "cell_type": "markdown",
   "id": "eacec3be",
   "metadata": {},
   "source": [
    "### 17. How do you distinguish between copy.copy() and copy.deepcopy()?\n",
    "**Ans:**  \n",
    "\n",
    "`copy.copy()` function will do a shallow copy of a list, i.e it will create a new instance But the reference/address for the new the newly_created instance and the existing instance will be the same.\n",
    "\n",
    "`copy.deepcopy()` will create a new instance AND the reference/address for the new the newly_created instance and the existing instance will be the different. `copy.deepcopy()` will duplicate any lists inside the list."
   ]
  },
  {
   "cell_type": "code",
   "execution_count": 11,
   "id": "560932b8",
   "metadata": {},
   "outputs": [
    {
     "name": "stdout",
     "output_type": "stream",
     "text": [
      "[1, 2, 3] [10000, 2, 3]\n",
      "[[1, 2, 3], [4, 5, 6], [7, 8, 9]] [[1, 2, 3], [10000, 5, 6], [7, 8, 9]]\n"
     ]
    }
   ],
   "source": [
    "import copy\n",
    "#Shallow copy\n",
    "list1 = [1, 2, 3]\n",
    "list2 = copy.copy(list1)  # assign list at other memory location\n",
    "list2[0] = 10000\n",
    "print(list1, list2)\n",
    "#deep copy\n",
    "list3 = [[1, 2, 3], [4, 5, 6], [7, 8, 9]]\n",
    "list4 = copy.deepcopy(list3)\n",
    "list4[1][0] = 10000\n",
    "print(list3, list4)\n",
    "\n",
    "#Note in single dimension list shallow copy is == deep copy\n",
    "\n"
   ]
  }
 ],
 "metadata": {
  "kernelspec": {
   "display_name": "Python 3 (ipykernel)",
   "language": "python",
   "name": "python3"
  },
  "language_info": {
   "codemirror_mode": {
    "name": "ipython",
    "version": 3
   },
   "file_extension": ".py",
   "mimetype": "text/x-python",
   "name": "python",
   "nbconvert_exporter": "python",
   "pygments_lexer": "ipython3",
   "version": "3.9.7"
  }
 },
 "nbformat": 4,
 "nbformat_minor": 5
}
