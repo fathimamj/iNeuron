{
 "cells": [
  {
   "cell_type": "markdown",
   "id": "5ae9c9d2",
   "metadata": {},
   "source": [
    "# Python Basic Assignment\n",
    "## Assignment - 3 [ FSDS NOV 21 ]"
   ]
  },
  {
   "cell_type": "markdown",
   "id": "0caf47b9",
   "metadata": {},
   "source": [
    "### 1. Why are functions advantageous to have in your programs?\n",
    "\n",
    "**Ans:** The advantages of using functions are:\n",
    "\n",
    "1. Duplication of the code is reduced.\n",
    "2. Increase the readability and modularity of the program.\n",
    "3. Modification of the program becomes easier\n",
    "4. Reduces the chances of error.\n",
    "    \n"
   ]
  },
  {
   "cell_type": "markdown",
   "id": "a710fb85",
   "metadata": {},
   "source": [
    "### 2. When does the code in a function run: when it's specified or when it's called?\n",
    "**Ans:** The code in a function executes when the function is called, not when the function is specified."
   ]
  },
  {
   "cell_type": "markdown",
   "id": "ba375fc2",
   "metadata": {},
   "source": [
    "### 3. What statement creates a function?\n",
    "**Ans:** In python `def` is the keyword used to define a function. The structure of the code must provided right after the defination. \n",
    "\n",
    "**Syntax of Function:**  \n",
    "` def function_name(parameters):\n",
    "    \"\"\"doc string\"\"\"          \n",
    "    -----function body-----\n",
    "    -----function body-----\n",
    "    return value\n",
    "`"
   ]
  },
  {
   "cell_type": "markdown",
   "id": "cf8a8993",
   "metadata": {},
   "source": [
    "### 4. What is the difference between a function and a function call?\n",
    "**Ans:** \n",
    "A function consists of the def statement and the code in its def clause.\n",
    "\n",
    "A function call is what moves the program execution into the function, and the function call evaluates to the function's return value."
   ]
  },
  {
   "cell_type": "markdown",
   "id": "a8c7a7a6",
   "metadata": {},
   "source": [
    "### 5. How many global scopes are there in a Python program? How many local scopes?\n",
    "**Ans:** There is one `global` scope, and one `local` scope is created whenever a function is called.\n",
    "This scope remains in existence until the program terminates , and a local scope is created whenever a function is called.\n"
   ]
  },
  {
   "cell_type": "markdown",
   "id": "be8cef21",
   "metadata": {},
   "source": [
    "### 6. What happens to variables in a local scope when the function call returns?\n",
    "**Ans:** \n",
    "\n",
    "`When a function returns, the local scope is destroyed`, and all the variables in it are handled by GC.\n",
    "\n",
    "When a function is called, the local variable is temporarily created.\n",
    "\n",
    "As soon as the function returns, the local scope is destroyed and the variable no longer can be accessable.\n",
    "\n",
    "We cannot access the that variable outside the function"
   ]
  },
  {
   "cell_type": "markdown",
   "id": "548c2bab",
   "metadata": {},
   "source": [
    "### 7. What is the concept of a return value? Is it possible to have a return value in an expression?\n",
    "**Ans**:\n",
    "\n",
    "A return value is the value that a function call evaluates to, i.e the function returns results after executing the block of statements (when the function completes the entire execution).\n",
    "    \n",
    "The return value can be of any types depending largely upon the operation perfomed within the function.\n",
    "It can be int, float, string, list etc\n",
    "\n",
    "`yes, it is possible to have return value in an expression`"
   ]
  },
  {
   "cell_type": "code",
   "execution_count": 5,
   "id": "25352643",
   "metadata": {},
   "outputs": [
    {
     "data": {
      "text/plain": [
       "40"
      ]
     },
     "execution_count": 5,
     "metadata": {},
     "output_type": "execute_result"
    }
   ],
   "source": [
    "def function7(a,b):\n",
    "    return a+b+10  ## Returning the expression\n",
    "\n",
    "function7(10, 20)"
   ]
  },
  {
   "cell_type": "markdown",
   "id": "e75a3eea",
   "metadata": {},
   "source": [
    "### 8. If a function does not have a return statement, what is the return value of a call to that function?\n",
    "**Ans:** If there is no return statement for a function, its return value is `None`."
   ]
  },
  {
   "cell_type": "markdown",
   "id": "56021dc3",
   "metadata": {},
   "source": [
    "### 9. How do you make a function variable refer to the global variable?\n",
    "**Ans:** \n",
    "\n",
    "A global statement will force a variable in a function to refer to the global variable.\n",
    "\n",
    "Variables that are created or defined outside the function is called as the Global Variables\n",
    "\n",
    "Global Variables can be used anywhere within the program ,both inside or outside the function\n",
    "\n",
    "A global statement will make a variable in a local scope to refer to the global variable.\n",
    "\n",
    "If you want to refer to a global variable in a function, you can use the `global` keyword to declare which variables are global.\n",
    "\n"
   ]
  },
  {
   "cell_type": "code",
   "execution_count": 7,
   "id": "4246bd4f",
   "metadata": {},
   "outputs": [
    {
     "name": "stdout",
     "output_type": "stream",
     "text": [
      "locally: 12\n",
      "globally : 12\n"
     ]
    }
   ],
   "source": [
    "#Example\n",
    "x = 11\n",
    "def fun():\n",
    "    global x\n",
    "    x+=1 \n",
    "    print(\"locally:\", x)\n",
    "fun()\n",
    "print(\"globally :\", x)"
   ]
  },
  {
   "cell_type": "markdown",
   "id": "02b6f419",
   "metadata": {},
   "source": [
    "### 10. What is the data type of None?\n",
    "**Ans:** The data type of None is `NoneType`."
   ]
  },
  {
   "cell_type": "code",
   "execution_count": 8,
   "id": "4a42f0de",
   "metadata": {},
   "outputs": [
    {
     "data": {
      "text/plain": [
       "NoneType"
      ]
     },
     "execution_count": 8,
     "metadata": {},
     "output_type": "execute_result"
    }
   ],
   "source": [
    "type(None) # it is null neither Zero nor any other value"
   ]
  },
  {
   "cell_type": "markdown",
   "id": "565c362f",
   "metadata": {},
   "source": [
    "### 11. What does the sentence import areallyourpetsnamederic do?\n",
    "**Ans:** \n",
    "\n",
    "\n",
    "As the `areallyourpetsnamederic` is not a built-in package, it will produce a `ModuleNotFoundError` , `ImportError`\n",
    "\n",
    "If it is present and configured sucuccesfully, python searches for module `areallyourpetsnamederic` in the package and it will import a module named `areallyourpetsnamederic` .\n",
    "\n"
   ]
  },
  {
   "cell_type": "markdown",
   "id": "f4e412ad",
   "metadata": {},
   "source": [
    "### 12. If you had a bacon() feature in a spam module, what would you call it after importing spam?\n",
    "**Ans:** This function can be called with\n",
    "\n",
    "`import spam `\n",
    "\n",
    "`spam.bacon()`"
   ]
  },
  {
   "cell_type": "markdown",
   "id": "92f4f59a",
   "metadata": {},
   "source": [
    "### 13. What can you do to save a programme from crashing if it encounters an error?\n",
    "**Ans:** \n",
    "\n",
    "\n",
    "To save the program from crashing over a runtime error we can use Exception Handling i.e. TRY-EXCEPT-FINALLY Block.\n",
    "\n",
    "Exception handling can be used to notify the user of why the error occurred and gracefully exit the process that caused the error.\n",
    "\n",
    "It will save from only the runtime error not the compile time error.\n",
    "\n",
    "\n",
    "Place the risky code in a `try` clause and use `except` block to handle the error.\n",
    "\n",
    "```python\n",
    "try:\n",
    "    # code that might raise an exception\n",
    "except Exception as e:\n",
    "    # handle the exception\n",
    "finally:\n",
    "    # code that will run no matter what\n",
    "```"
   ]
  },
  {
   "cell_type": "markdown",
   "id": "9187db7d",
   "metadata": {},
   "source": [
    "### 14. What is the purpose of the try clause? What is the purpose of the except clause?\n",
    "**Ans:** \n",
    "\n",
    "`try`: Ensure that any run time error does not crash the program and continue executing the remaining code in the try clasue. The try block is used to check some code for errors i.e the code inside the try block will execute when there is no error in the program. The main advantage of using `try` is not to interrupt the execution process in case of any error. `try` is extensivly used in long debugging of code. \n",
    "\n",
    "\n",
    "`except`: It contains the code that is excecuted if a runtime error occurs inside the try clause. the code inside the except block will execute whenever the program encounters some error in the  try block.`except` is used to check for specific error type, similar to `if`."
   ]
  },
  {
   "cell_type": "code",
   "execution_count": null,
   "id": "14061cdd",
   "metadata": {},
   "outputs": [],
   "source": []
  }
 ],
 "metadata": {
  "kernelspec": {
   "display_name": "Python 3 (ipykernel)",
   "language": "python",
   "name": "python3"
  },
  "language_info": {
   "codemirror_mode": {
    "name": "ipython",
    "version": 3
   },
   "file_extension": ".py",
   "mimetype": "text/x-python",
   "name": "python",
   "nbconvert_exporter": "python",
   "pygments_lexer": "ipython3",
   "version": "3.9.7"
  }
 },
 "nbformat": 4,
 "nbformat_minor": 5
}
