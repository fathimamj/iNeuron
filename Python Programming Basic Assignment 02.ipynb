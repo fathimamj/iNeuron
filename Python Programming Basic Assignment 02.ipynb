{
 "cells": [
  {
   "cell_type": "markdown",
   "metadata": {},
   "source": [
    "# Python Programming Basic Assignment\n",
    "## Assignment - 02 [ FSDS NOV 21 ]\n"
   ]
  },
  {
   "cell_type": "markdown",
   "metadata": {},
   "source": [
    "### 1.Write a Python program to convert Kilometers to Miles ?"
   ]
  },
  {
   "cell_type": "code",
   "execution_count": 1,
   "metadata": {},
   "outputs": [
    {
     "name": "stdout",
     "output_type": "stream",
     "text": [
      "Enter distance in kilometers: 37\n",
      "Distance of(37.0)in miles: 22.99\n"
     ]
    }
   ],
   "source": [
    "# kilometers to miles\n",
    "\n",
    "def km_to_miles(km):\n",
    "    miles = km * 0.621371\n",
    "    return round(miles, 2)\n",
    "\n",
    "\n",
    "dist_in_km = float(input(\"Enter distance in kilometers: \"))\n",
    "\n",
    "print(\"Distance of({})in miles:\".format(dist_in_km), km_to_miles(dist_in_km))"
   ]
  },
  {
   "cell_type": "markdown",
   "metadata": {},
   "source": [
    "### 2.Write a Python program to convert Celsius to Farenheit ?"
   ]
  },
  {
   "cell_type": "code",
   "execution_count": 2,
   "metadata": {},
   "outputs": [
    {
     "name": "stdout",
     "output_type": "stream",
     "text": [
      "Enter the temperature in degree Celcious: 37\n",
      "Temperature of(37.0) in Fahrenheit: 98.6\n"
     ]
    }
   ],
   "source": [
    "#  Celcious to Fahrenheit\n",
    "\n",
    "def celcious_to_fahrenheit(celcious):\n",
    "    fahrenheit = (celcious * (9/5)) + 32\n",
    "    return round(fahrenheit, 2)\n",
    "\n",
    "temp_in_degree = float(input(\"Enter the temperature in degree Celcious: \"))\n",
    "\n",
    "print(\"Temperature of({}) in Fahrenheit:\".format(temp_in_degree), celcious_to_fahrenheit(temp_in_degree))"
   ]
  },
  {
   "cell_type": "markdown",
   "metadata": {},
   "source": [
    "### 3.Write a Python program to display calender ?"
   ]
  },
  {
   "cell_type": "code",
   "execution_count": 3,
   "metadata": {},
   "outputs": [
    {
     "name": "stdout",
     "output_type": "stream",
     "text": [
      "Enter year: 2022\n",
      "Enter month in number: 8\n",
      "\n",
      "    August 2022\n",
      "Mo Tu We Th Fr Sa Su\n",
      " 1  2  3  4  5  6  7\n",
      " 8  9 10 11 12 13 14\n",
      "15 16 17 18 19 20 21\n",
      "22 23 24 25 26 27 28\n",
      "29 30 31\n",
      "\n"
     ]
    }
   ],
   "source": [
    "import calendar\n",
    "\n",
    "year  = int(input(\"Enter year: \"))\n",
    "month = int(input(\"Enter month in number: \"))\n",
    "\n",
    "print(f\"\\n{calendar.month(year,month)}\")"
   ]
  },
  {
   "cell_type": "markdown",
   "metadata": {},
   "source": [
    "### 4.Write a Python program to solve quadartic equation ?"
   ]
  },
  {
   "cell_type": "code",
   "execution_count": 5,
   "metadata": {},
   "outputs": [
    {
     "name": "stdout",
     "output_type": "stream",
     "text": [
      "Quadratic equation: ax^2 + bx + c = 0\n",
      "Enter a: 2\n",
      "Enter b: 2\n",
      "Enter c: 4\n",
      "The roots of the equation are: (-0.49999999999999994+1.3228756555322954j) (-0.5000000000000001-1.3228756555322954j)\n"
     ]
    }
   ],
   "source": [
    "#  Quadratic Equation\n",
    "# Foormula for quadratic equation: ax^2 + bx + c = 0\n",
    "\n",
    "print(\"Quadratic equation: ax^2 + bx + c = 0\")\n",
    "a=int(input(\"Enter a: \"))\n",
    "b=int(input(\"Enter b: \"))\n",
    "c=int(input(\"Enter c: \"))\n",
    "\n",
    "\n",
    "def quadratic_eq_formula(a, b, c):\n",
    "    if a == 0:\n",
    "        print(\"The equation is not quadratic\")\n",
    "    else:\n",
    "        x1 = (-b + (b**2 - 4*a*c)**0.5)/(2*a)\n",
    "        x2 = (-b - (b**2 - 4*a*c)**0.5)/(2*a)\n",
    "        print(\"The roots of the equation are:\", x1, x2)\n",
    "        \n",
    "quadratic_eq_formula(a, b, c)"
   ]
  },
  {
   "cell_type": "markdown",
   "metadata": {},
   "source": [
    "### 5.Write a Python program to swap two variables without temp variable ?"
   ]
  },
  {
   "cell_type": "code",
   "execution_count": 6,
   "metadata": {},
   "outputs": [
    {
     "name": "stdout",
     "output_type": "stream",
     "text": [
      "Before swap:\n",
      "var1 = 6 and var2 = 4\n",
      "\n",
      "After swap:\n",
      "var1 = 4 and var2 = 6\n"
     ]
    }
   ],
   "source": [
    "var1 = 6\n",
    "var2 = 4\n",
    "\n",
    "print('Before swap:\\nvar1 = {} and var2 = {}'.format(var1, var2))\n",
    "var2 = var1 + var2\n",
    "var1 = var2 - var1\n",
    "var2 = var2 - var1\n",
    "\n",
    "print('\\nAfter swap:\\nvar1 = {} and var2 = {}'.format(var1, var2))"
   ]
  }
 ],
 "metadata": {
  "kernelspec": {
   "display_name": "Python 3 (ipykernel)",
   "language": "python",
   "name": "python3"
  },
  "language_info": {
   "codemirror_mode": {
    "name": "ipython",
    "version": 3
   },
   "file_extension": ".py",
   "mimetype": "text/x-python",
   "name": "python",
   "nbconvert_exporter": "python",
   "pygments_lexer": "ipython3",
   "version": "3.9.7"
  }
 },
 "nbformat": 4,
 "nbformat_minor": 4
}
