{
 "cells": [
  {
   "cell_type": "markdown",
   "id": "c750c84b",
   "metadata": {},
   "source": [
    "# Python Basic Assignment\n",
    "## Assignment - 10 [ FSDS NOV 21 ]"
   ]
  },
  {
   "cell_type": "markdown",
   "id": "c00ae223",
   "metadata": {},
   "source": [
    "### 1. How do you distinguish between shutil.copy() and shutil.copytree()?\n",
    "**Ans:** \n",
    "\n",
    "`shutil.copy()` method is used to copy the contents of a file from one file to another file/folder, it primary takes two arguments `src`,`dest`, `src` represents the file to be copied where as destination refers to the file/folder to where the `src` data should be copied, if `dest` is a folder name the `src` with exact name will be copied to the `dest` folder, if its a file then the contents of `src` will be copied to `dest` where `dest` retains it name.\n",
    "\n",
    "`shutil.copytree()` function is used to copy the entire contents of a folder to other folder. it also takes two arguments `src` & `dest`, it copies all the content recursively and stores it in `dest`. the important catch here is `dest` must not exist prior to this and it will be created during the copy operation. Permissions and times of directories are copied with `shutil.copystat()` and individual files are copied using `shutil.copy2()` by default which can be modified using `copy_function` attribute.\n"
   ]
  },
  {
   "cell_type": "markdown",
   "id": "0a932861",
   "metadata": {},
   "source": [
    "### 2. What function is used to rename files??\n",
    "**Ans:** \n",
    "\n",
    "`os.rename()` function is used to rename files or directories using a python program, this function takes two arguments `src` and `dest`, `src` represents the name file/directory which we want to rename, whereas `dest` represents the new name of the file/directory."
   ]
  },
  {
   "cell_type": "markdown",
   "id": "34ce7a3d",
   "metadata": {},
   "source": [
    "### 3. What is the difference between the delete functions in the send2trash and shutil modules?\n",
    "**Ans:** \n",
    "\n",
    "Shutil module provides a funciton called as `shutil.rmtree()` which deletes a directory and all its contents. The other functions with similar functionality are `os.remove()` -> removes a file, `os.rmdir()` removes a empty directory. The problem with these functions is once a file is deleted. it will be lost permanently, if a file is deleted accidentally using these methods there is no way we can recover the deleted file\n",
    "\n",
    "Where as send2trash module provides a function called `send2trash.send2trash()` to delete a file/directory. these methods moves the files/directories to trash folder instead of permanently deleting them. hence if a file/folder is deleted accidentally it can be still recovered from trash folder, if is deleted using the `send2trash.send2trash()` function. `send2trash` is not included with python standard libary like `os` & `shutil` modules. it needs to be installed explicitly using the command `!pip install send2trash`"
   ]
  },
  {
   "cell_type": "markdown",
   "id": "bf6ed792",
   "metadata": {},
   "source": [
    "### 4. ZipFile objects have a close() method just like File objects’ close() method. What ZipFile method is equivalent to File objects’ open() method?\n",
    "**Ans:** \n",
    "\n",
    "ZipFile Module provides a method called as `zipfile`. `ZipFile()` to read and write to zipFiles. it takes arugments lile filename and mode etc `zipfile.ZipFile('filename', mode = 'r')`"
   ]
  },
  {
   "cell_type": "markdown",
   "id": "c625fcea",
   "metadata": {},
   "source": [
    "### 5. Create a programme that searches a folder tree for files with a certain file extension (such as .pdf or .jpg). Copy these files from whatever location they are in to a new folder\n",
    "\n",
    "**Ans:** "
   ]
  },
  {
   "cell_type": "code",
   "execution_count": 8,
   "id": "4710d7d8",
   "metadata": {},
   "outputs": [
    {
     "name": "stdout",
     "output_type": "stream",
     "text": [
      "Folder Name ➞ /Users/miteshwarke/Documents/FactSet\n",
      "\n",
      "Sub Folders ➞ ['Online Assessment Hackerrank', 'sample']\n",
      "\n",
      "Files ➞ ['.DS_Store']\n",
      "\n",
      "Files copied successfully from /Users/miteshwarke/Documents/FactSet to /Users/miteshwarke/Documents/FactSet/sample\n",
      "Folder Name ➞ /Users/miteshwarke/Documents/FactSet/Online Assessment Hackerrank\n",
      "\n",
      "Sub Folders ➞ ['2. Quantitative Aptitude', '1. Reasoning', '3. English']\n",
      "\n",
      "Files ➞ ['instruction.png', '.DS_Store', 'begin.png']\n",
      "\n",
      "Files copied successfully from /Users/miteshwarke/Documents/FactSet to /Users/miteshwarke/Documents/FactSet/sample\n",
      "Folder Name ➞ /Users/miteshwarke/Documents/FactSet/Online Assessment Hackerrank/2. Quantitative Aptitude\n",
      "\n",
      "Sub Folders ➞ []\n",
      "\n",
      "Files ➞ ['27(b).png', '48.png', '49.png', '43(a).png', '28.png', '29.png', '33(b).png', '31(b).png', '26(a).png', '39.png', '38.png', '35.png', '34.png', '31(a).png', '36.png', '26(b).png', '37.png', '33(a).png', '32.png', '30.png', '42.png', '43(b).png', '41.png', '40.png', '44.png', '50.png', '45.png', '47.png', '27(a).png', '46.png']\n",
      "\n",
      "Files copied successfully from /Users/miteshwarke/Documents/FactSet to /Users/miteshwarke/Documents/FactSet/sample\n",
      "Folder Name ➞ /Users/miteshwarke/Documents/FactSet/Online Assessment Hackerrank/1. Reasoning\n",
      "\n",
      "Sub Folders ➞ []\n",
      "\n",
      "Files ➞ ['.DS_Store', '8.png', '9.png', '14.png', '15.png', '17.png', '16.png', '12.png', '13.png', '11.png', '10.png', '21.png', '20.png', '22.png', '23.png', '18.png', '24.png', '25.png', '19.png', '4.png', '5.png', '7.png', '6.png', '2.png', '3.png', '1.png']\n",
      "\n",
      "Files copied successfully from /Users/miteshwarke/Documents/FactSet to /Users/miteshwarke/Documents/FactSet/sample\n",
      "Folder Name ➞ /Users/miteshwarke/Documents/FactSet/Online Assessment Hackerrank/3. English\n",
      "\n",
      "Sub Folders ➞ []\n",
      "\n",
      "Files ➞ ['63.png', '53(a).png', '62.png', '60.png', '74.png', '75.png', '61.png', '59.png', '65.png', '71.png', '70.png', '64.png', '58.png', '72.png', '66.png', '67.png', '73.png', '56.png', '57.png', '55.png', '69.png', '68.png', '54.png', '51.png', '53(b).png', '52.png']\n",
      "\n",
      "Files copied successfully from /Users/miteshwarke/Documents/FactSet to /Users/miteshwarke/Documents/FactSet/sample\n",
      "Folder Name ➞ /Users/miteshwarke/Documents/FactSet/sample\n",
      "\n",
      "Sub Folders ➞ []\n",
      "\n",
      "Files ➞ []\n",
      "\n",
      "Files copied successfully from /Users/miteshwarke/Documents/FactSet to /Users/miteshwarke/Documents/FactSet/sample\n"
     ]
    }
   ],
   "source": [
    "import os\n",
    "import shutil\n",
    "\n",
    "def search_and_copy(source,destination,extensions):\n",
    "    source = os.path.abspath(source)\n",
    "    destination = os.path.abspath(destination)\n",
    "    for foldername, subfolder, filenames in os.walk(source):\n",
    "        print(f'Folder Name ➞ {foldername}',end='\\n\\n')\n",
    "        print(f'Sub Folders ➞ {subfolder}',end='\\n\\n')\n",
    "        print(f'Files ➞ {filenames}',end='\\n\\n')\n",
    "        for filename in filenames:\n",
    "            fileName,extension = os.path.splitext(filename)\n",
    "            if extension in extensions:\n",
    "                targetFile = foldername+os.path.sep+fileName+extension\n",
    "                shutil.copy(targetFile, destination)\n",
    "        print(f'Files copied successfully from {source} to {destination}')\n",
    "    \n",
    "extensions = ['.pdf','.jpg','.ipynb']\n",
    "source = '/Users/miteshwarke/Documents/FactSet'\n",
    "destination = '/Users/miteshwarke/Documents/FactSet/sample'\n",
    "search_and_copy(source, destination, extensions)"
   ]
  },
  {
   "cell_type": "code",
   "execution_count": null,
   "id": "8f1d0330",
   "metadata": {},
   "outputs": [],
   "source": []
  }
 ],
 "metadata": {
  "kernelspec": {
   "display_name": "Python 3 (ipykernel)",
   "language": "python",
   "name": "python3"
  },
  "language_info": {
   "codemirror_mode": {
    "name": "ipython",
    "version": 3
   },
   "file_extension": ".py",
   "mimetype": "text/x-python",
   "name": "python",
   "nbconvert_exporter": "python",
   "pygments_lexer": "ipython3",
   "version": "3.9.7"
  }
 },
 "nbformat": 4,
 "nbformat_minor": 5
}
