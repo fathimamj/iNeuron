{
 "cells": [
  {
   "cell_type": "markdown",
   "id": "5e4896b3",
   "metadata": {},
   "source": [
    "# Python Basic Assignment\n",
    "## Assignment - 9 [ FSDS NOV 21 ]"
   ]
  },
  {
   "cell_type": "markdown",
   "id": "7a719726",
   "metadata": {},
   "source": [
    "### 1. To what does a relative path refer ?\n",
    "**Ans:** \n",
    "\n",
    "`os.path.relpath()` method in Python is used to get a relative filepath to the given path either from the current working directory or from the given directory.\n",
    "In short, relative paths are relative to the current working directory."
   ]
  },
  {
   "cell_type": "code",
   "execution_count": 3,
   "id": "e62c07a7",
   "metadata": {},
   "outputs": [
    {
     "name": "stdout",
     "output_type": "stream",
     "text": [
      " Desktop / file.txt\n"
     ]
    }
   ],
   "source": [
    "import os\n",
    "path = \"/home / User / Desktop / file.txt\"\n",
    "start = \"/home / User \"\n",
    "relative_path = os.path.relpath(path,start)\n",
    "print(relative_path)"
   ]
  },
  {
   "cell_type": "markdown",
   "id": "1e5a7601",
   "metadata": {},
   "source": [
    "### 2.Where does an absolute path start with your Operating System ?\n",
    "**Ans:** \n",
    "\n",
    "An absolute path is a path that contains the entire path to the file or directory that we need to access. This path will begin at the home directory of your computer and will end with the file or directory that we wish to access.  Absolute paths ensure that Python can find the exact file on computer. Basically we can say that absolute paths start with the root folder, such as / or C:\\.\n",
    "Absolute path always starts with rootdi directory.\n",
    "In Linux based systems the absolute path starts with `/` "
   ]
  },
  {
   "cell_type": "markdown",
   "id": "20cf4bf7",
   "metadata": {},
   "source": [
    "### 3.What does the functions `os.getcwd()` and `os.chdir()` do ?\n",
    "**Ans:** \n",
    "\n",
    "`os.getcwd()` method tells us the location of current working directory (CWD). Whereas `os.chdir()` method in Python used to change the current working directory to specified path. \n",
    "\n",
    "These functions are similar to linux commands `pwd` and `cd`"
   ]
  },
  {
   "cell_type": "code",
   "execution_count": 2,
   "id": "b45b79f1",
   "metadata": {},
   "outputs": [
    {
     "name": "stdout",
     "output_type": "stream",
     "text": [
      "/Users/miteshwarke/Documents/iNeuron FSDS/Assignments/1] Python Basic Assignment /Mitesh's Assignments\n",
      "/Users/miteshwarke/Documents\n"
     ]
    }
   ],
   "source": [
    "import os\n",
    "print(os.getcwd()) # Prints the current Working Directory\n",
    "path = r'/Users/miteshwarke/Documents'\n",
    "os.chdir(path)\n",
    "print(os.getcwd())"
   ]
  },
  {
   "cell_type": "markdown",
   "id": "ef89a436",
   "metadata": {},
   "source": [
    "### 4. What are `.` and `..`  folders ?\n",
    "**Ans:** \n",
    "\n",
    "`.` Represents the Current Directory Whereas `..` Represents the Parent Directory of the Current Directory  \n"
   ]
  },
  {
   "cell_type": "markdown",
   "id": "dc9559e2",
   "metadata": {},
   "source": [
    "### 5. In `C:\\bacon\\eggs\\spam.txt` which part is the dir name and which part is the base name ?\n",
    "**Ans:** \n",
    "\n",
    "For `C:\\bacon\\eggs\\spam.txt`  \n",
    "The dir name is `C:\\\\bacon\\\\eggs`  \n",
    "The Base name is `spam.txt`"
   ]
  },
  {
   "cell_type": "code",
   "execution_count": 2,
   "id": "3e63e793",
   "metadata": {},
   "outputs": [
    {
     "name": "stdout",
     "output_type": "stream",
     "text": [
      "C:\\bacon\\eggs\n",
      "spam.txt\n"
     ]
    }
   ],
   "source": [
    "import os\n",
    "path = r'C:\\bacon\\eggs\\spam.txt'\n",
    "print(os.path.dirname(path))\n",
    "print(os.path.basename(path))"
   ]
  },
  {
   "cell_type": "markdown",
   "id": "edb97d1b",
   "metadata": {},
   "source": [
    "### 6. What are the three `mode` arguments that can be passed to the `open()` function ?\n",
    "**Ans:**\n",
    "\n",
    "A file can be Accessed in python using `open()` function. open function takes two arguments filename and mode of operation (optional). if mode is not provided the default mode of opening is read mode   \n",
    "So, the syntax being: **`open(filename, mode)`**\n",
    "\n",
    "- `‘r’` – Read Mode: This is the default mode for open(). The file is opened and a pointer is positioned at the beginning of the file’s content.\n",
    "- `‘r+’` – Read/Write Mode: Use this mode if you need to simultaneously read and write to a file.\n",
    "- `'rb'` - Only for reading in a binary format. The pointer is located at the start of file and it’s a default mode.\n",
    "- `'rb+'` For the both writing and reading operation in binary format. The pointer is located at the start of file.\n",
    "- `‘w’` – Write Mode: Using this mode will overwrite any existing content in a file. If the given file does not exist, a new one will be created.\n",
    "- `'w+'` For the both writing and reading operation. Check for existing file, if its present overwrites in the exists file. If there is no any existing file then, makes a novel file for the writing and reading.\n",
    "- `'wb'` Only for writing in a binary format. Check for existing file, if its present overwrites in the exists file. If there is no any existing file\n",
    "- `'wb+'` For the both writing and reading operation in binary format. Check for existing file, if its present overwrites in the exists file. If there is no any existing file then, makes a novel file for the writing and reading.\n",
    "\n",
    "- `‘a’` – Append Mode: With this mode the user can append the data without overwriting any already existing data in the file.\n",
    "- `‘a+’` – Append and Read Mode: In this mode you can read and append the data without overwriting the original file.\n",
    "- `‘x’` – Exclusive Creating Mode: This mode is for the sole purpose of creating new files. Use this mode if you know the file to be written doesn’t exist beforehand.\n",
    "\n"
   ]
  },
  {
   "cell_type": "markdown",
   "id": "a6250b7d",
   "metadata": {},
   "source": [
    "### 7. What happens if an existing file is opened in write mode ?\n",
    "**Ans:** \n",
    "\n",
    "Using this mode will overwrite any existing content in a file. If the given file does not exist, a new one will be created."
   ]
  },
  {
   "cell_type": "markdown",
   "id": "e76da392",
   "metadata": {},
   "source": [
    "### 8. How do you tell the difference between `read()` and `readlines()` ?\n",
    "**Ans:** \n",
    "\n",
    "The main difference is that `read()` will read the whole file at once and then print out the first characters that take up as many bytes as you specify in the parenthesis . Whereas the `readline()` that will read and print out only the first characters that take up as many bytes as you specify in the parenthesis. You may want to use readline() when you're reading files that are too big for your RAM.\n",
    "\n",
    "- The `read()` would treat each character in the file separately, meaning that the iteration would happen for every character.\n",
    "- The `readline()` function, on the other hand, only reads a single line of the file. This means that if the first line of the file were three lines long, the readline() function would only parse (or iterate/operate) on the first line of the file.\n",
    "\n"
   ]
  },
  {
   "cell_type": "markdown",
   "id": "9e161992",
   "metadata": {},
   "source": [
    "### 9. What data structure does a shelf value resemble ?\n",
    "**Ans:**\n",
    "\n",
    "A shelf value resembles a dictionary value; it has keys and values, along with keys() and values() methods that work similarly to the dictionary methods of the same names. \n"
   ]
  },
  {
   "cell_type": "code",
   "execution_count": null,
   "id": "bd8768c2",
   "metadata": {},
   "outputs": [],
   "source": []
  }
 ],
 "metadata": {
  "kernelspec": {
   "display_name": "Python 3 (ipykernel)",
   "language": "python",
   "name": "python3"
  },
  "language_info": {
   "codemirror_mode": {
    "name": "ipython",
    "version": 3
   },
   "file_extension": ".py",
   "mimetype": "text/x-python",
   "name": "python",
   "nbconvert_exporter": "python",
   "pygments_lexer": "ipython3",
   "version": "3.9.7"
  }
 },
 "nbformat": 4,
 "nbformat_minor": 5
}
