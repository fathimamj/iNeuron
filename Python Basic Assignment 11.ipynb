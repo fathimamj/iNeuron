{
 "cells": [
  {
   "cell_type": "markdown",
   "id": "0c9e9aab",
   "metadata": {},
   "source": [
    "# Python Basic Assignment\n",
    "## Assignment - 11 [ FSDS NOV 21 ]"
   ]
  },
  {
   "cell_type": "markdown",
   "id": "0162b0f7",
   "metadata": {},
   "source": [
    "### 1. Create an assert statement that throws an AssertionError if the variable spam is a negative integer."
   ]
  },
  {
   "cell_type": "code",
   "execution_count": 4,
   "id": "e6f5b282",
   "metadata": {},
   "outputs": [
    {
     "name": "stdout",
     "output_type": "stream",
     "text": [
      "Enter a positive number :: -22\n"
     ]
    },
    {
     "ename": "AssertionError",
     "evalue": "Warning : A positive number is required",
     "output_type": "error",
     "traceback": [
      "\u001b[0;31m---------------------------------------------------------------------------\u001b[0m",
      "\u001b[0;31mAssertionError\u001b[0m                            Traceback (most recent call last)",
      "\u001b[0;32m/var/folders/t_/0xqnxt590_q3q2xk8hccdjg00000gn/T/ipykernel_2899/4180703028.py\u001b[0m in \u001b[0;36m<module>\u001b[0;34m\u001b[0m\n\u001b[1;32m      1\u001b[0m \u001b[0mspam\u001b[0m \u001b[0;34m=\u001b[0m \u001b[0mint\u001b[0m\u001b[0;34m(\u001b[0m\u001b[0minput\u001b[0m\u001b[0;34m(\u001b[0m\u001b[0;34m'Enter a positive number :: '\u001b[0m\u001b[0;34m)\u001b[0m\u001b[0;34m)\u001b[0m\u001b[0;34m\u001b[0m\u001b[0;34m\u001b[0m\u001b[0m\n\u001b[0;32m----> 2\u001b[0;31m \u001b[0;32massert\u001b[0m \u001b[0mspam\u001b[0m \u001b[0;34m>=\u001b[0m \u001b[0;36m0\u001b[0m\u001b[0;34m,\u001b[0m \u001b[0;34m'Warning : A positive number is required'\u001b[0m\u001b[0;34m\u001b[0m\u001b[0;34m\u001b[0m\u001b[0m\n\u001b[0m",
      "\u001b[0;31mAssertionError\u001b[0m: Warning : A positive number is required"
     ]
    }
   ],
   "source": [
    "spam = int(input('Enter a positive number :: '))\n",
    "assert spam >= 0, 'Warning : A positive number is required'"
   ]
  },
  {
   "cell_type": "markdown",
   "id": "5a065f8d",
   "metadata": {},
   "source": [
    "### 2. Write an assert statement that triggers an AssertionError if the variables eggs and bacon contain strings that are the same as each other, even if their cases are different (that is, 'hello' and 'hello' are considered the same, and 'goodbye' and 'GOODbye' are also considered the same)."
   ]
  },
  {
   "cell_type": "code",
   "execution_count": 5,
   "id": "72b4d992",
   "metadata": {},
   "outputs": [
    {
     "name": "stdout",
     "output_type": "stream",
     "text": [
      "Enter a string :: goodbye\n",
      "Enter a string :: GOODbye\n",
      "eggs = goodbye bacon = GOODbye\n"
     ]
    },
    {
     "ename": "AssertionError",
     "evalue": "Warning : Strings must be different",
     "output_type": "error",
     "traceback": [
      "\u001b[0;31m---------------------------------------------------------------------------\u001b[0m",
      "\u001b[0;31mAssertionError\u001b[0m                            Traceback (most recent call last)",
      "\u001b[0;32m/var/folders/t_/0xqnxt590_q3q2xk8hccdjg00000gn/T/ipykernel_2899/3493899039.py\u001b[0m in \u001b[0;36m<module>\u001b[0;34m\u001b[0m\n\u001b[1;32m      2\u001b[0m \u001b[0mbacon\u001b[0m \u001b[0;34m=\u001b[0m \u001b[0minput\u001b[0m\u001b[0;34m(\u001b[0m\u001b[0;34m'Enter a string :: '\u001b[0m\u001b[0;34m)\u001b[0m\u001b[0;34m\u001b[0m\u001b[0;34m\u001b[0m\u001b[0m\n\u001b[1;32m      3\u001b[0m \u001b[0mprint\u001b[0m\u001b[0;34m(\u001b[0m\u001b[0;34m'eggs ='\u001b[0m\u001b[0;34m,\u001b[0m \u001b[0meggs\u001b[0m\u001b[0;34m,\u001b[0m \u001b[0;34m'bacon ='\u001b[0m\u001b[0;34m,\u001b[0m \u001b[0mbacon\u001b[0m\u001b[0;34m)\u001b[0m\u001b[0;34m\u001b[0m\u001b[0;34m\u001b[0m\u001b[0m\n\u001b[0;32m----> 4\u001b[0;31m assert not(eggs.lower() == bacon.lower()\n\u001b[0m\u001b[1;32m      5\u001b[0m            ), 'Warning : Strings must be different'\n",
      "\u001b[0;31mAssertionError\u001b[0m: Warning : Strings must be different"
     ]
    }
   ],
   "source": [
    "eggs = input('Enter a string :: ')\n",
    "bacon = input('Enter a string :: ')\n",
    "print('eggs =', eggs, 'bacon =', bacon)\n",
    "assert not(eggs.lower() == bacon.lower()\n",
    "           ), 'Warning : Strings must be different'"
   ]
  },
  {
   "cell_type": "markdown",
   "id": "8762fb8e",
   "metadata": {},
   "source": [
    "### 3. Create an assert statement that throws an AssertionError every time.\n",
    "\n",
    "**Ans:**\n",
    "\n",
    "`assert False` - this always triggers an exception"
   ]
  },
  {
   "cell_type": "code",
   "execution_count": 3,
   "id": "90315686",
   "metadata": {},
   "outputs": [
    {
     "ename": "AssertionError",
     "evalue": "Always throws Assertion Error",
     "output_type": "error",
     "traceback": [
      "\u001b[0;31m---------------------------------------------------------------------------\u001b[0m",
      "\u001b[0;31mAssertionError\u001b[0m                            Traceback (most recent call last)",
      "\u001b[0;32m/var/folders/t_/0xqnxt590_q3q2xk8hccdjg00000gn/T/ipykernel_2899/2588393078.py\u001b[0m in \u001b[0;36m<module>\u001b[0;34m\u001b[0m\n\u001b[0;32m----> 1\u001b[0;31m \u001b[0;32massert\u001b[0m \u001b[0;32mFalse\u001b[0m\u001b[0;34m,\u001b[0m \u001b[0;34m'Always throws Assertion Error'\u001b[0m\u001b[0;34m\u001b[0m\u001b[0;34m\u001b[0m\u001b[0m\n\u001b[0m",
      "\u001b[0;31mAssertionError\u001b[0m: Always throws Assertion Error"
     ]
    }
   ],
   "source": [
    "assert False, 'Always throws Assertion Error'"
   ]
  },
  {
   "cell_type": "markdown",
   "id": "b7f56f69",
   "metadata": {},
   "source": [
    "### 4. What are the two lines that must be present in your software in order to call logging.debug()?"
   ]
  },
  {
   "cell_type": "code",
   "execution_count": 15,
   "id": "1a9e6986",
   "metadata": {},
   "outputs": [],
   "source": [
    "import logging\n",
    "logging.basicConfig(filename = 'application_log.txt',level=logging.DEBUG, format=' %(asctime)s - %(levelname)s - %(message)s')"
   ]
  },
  {
   "cell_type": "markdown",
   "id": "f5bbd685",
   "metadata": {},
   "source": [
    "### 5. What are the two lines that your program must have in order to have logging.debug() send a logging message to a file named programLog.txt?"
   ]
  },
  {
   "cell_type": "code",
   "execution_count": 38,
   "id": "b977a8ed",
   "metadata": {},
   "outputs": [],
   "source": [
    "import logging\n",
    "logging.basicConfig(filename = 'application_log.txt',level=logging.DEBUG, format=' %(asctime)s - %(levelname)s - %(message)s')\n",
    "logging.debug(\"Data Inserted Successfully\")\n",
    "logging.debug('Connection Closed Successfully')"
   ]
  },
  {
   "cell_type": "code",
   "execution_count": 39,
   "id": "94291c02",
   "metadata": {},
   "outputs": [
    {
     "name": "stdout",
     "output_type": "stream",
     "text": [
      " 2021-10-10 16:32:15,102 - DEBUG - Data Inserted Successfully\n",
      "\n",
      " 2021-10-10 16:32:15,102 - DEBUG - Connection Closed Successfully\n",
      "\n"
     ]
    }
   ],
   "source": [
    "file = open(\"./application_log.txt\",\"r\")\n",
    "for record in file.readlines():\n",
    "    print(record)"
   ]
  },
  {
   "cell_type": "markdown",
   "id": "c68d91af",
   "metadata": {},
   "source": [
    "### 6. What are the five levels of logging?\n",
    "**Ans:** \n",
    "\n",
    "Depending on type of information, logging data is divided according to the following 6 levels in  python \n",
    "\n",
    "1. `CRITICAL===>50` \n",
    " Represents a very serious problem that needs high attention \n",
    "  \n",
    "2. `ERROR ===>40` \n",
    " Represents a serious error \n",
    "3. `WARNING ==>30` \n",
    " Represents a warning message, some caution needed. It is alert to the programmer. \n",
    "4. `INFO==>20` \n",
    " Represents a message with some important information \n",
    "5. `DEBUG ===>10` \n",
    " Represents a message with debugging information \n",
    "6. `NOTSET==>0 `\n",
    " Represents that level is not set By default while executing Python program only WARNING and higher level messages will be  displayed.\n",
    "\n"
   ]
  },
  {
   "cell_type": "code",
   "execution_count": 1,
   "id": "80bcf9c6",
   "metadata": {},
   "outputs": [
    {
     "name": "stdout",
     "output_type": "stream",
     "text": [
      "Logging Demo\n"
     ]
    }
   ],
   "source": [
    "import logging\n",
    "logging.basicConfig(filename='log.txt', level=logging.WARNING)\n",
    "print('Logging Demo')\n",
    "logging.debug('Debug Information')\n",
    "logging.info('info Information')\n",
    "logging.warning('warning Information')\n",
    "logging.error('error Information')\n",
    "logging.critical('critical Information')"
   ]
  },
  {
   "cell_type": "markdown",
   "id": "d2c84f71",
   "metadata": {},
   "source": [
    "### 7. What line of code would you add to your software to disable all logging messages?"
   ]
  },
  {
   "cell_type": "markdown",
   "id": "b38ed12a",
   "metadata": {},
   "source": [
    "`logging.disable(level)` : will disable all the logging message severity 'level' and below.\n",
    "        set level = lg.CRITICAL\n",
    "        level = lg.CRITICAL has the highest priority of logging;\n",
    "                    so all the other levels will automatically be disabled\n",
    "\n",
    "\n",
    "`logging.disable(lg.CRITICAL)`\n",
    "\n",
    "or\n",
    "\n",
    "`logging.disable = True` Completely"
   ]
  },
  {
   "cell_type": "markdown",
   "id": "1a731463",
   "metadata": {},
   "source": [
    "### 8.Why is using logging messages better than using print() to display the same message?\n",
    "**Ans:** \n",
    "\n",
    "Post devlopment of your code, you can disable logging messages without removing the logging function, whereas you need to\n",
    "manually remove print() statements. \n",
    "\n",
    "print is used when you want to display any particular message or help whereas logging is used to record all events like\n",
    "error, info, debug messages, timestamps.\n",
    "\n",
    "Log maintainability is better than print maintainability in a collaboration environment.\n",
    "\n",
    "Using Logging; we can also log the severity level of the data."
   ]
  },
  {
   "cell_type": "markdown",
   "id": "8616cb8d",
   "metadata": {},
   "source": [
    "### 9.What are the differences between the Step Over, Step In, and Step Out buttons in the debugger?\n",
    "**Ans:** \n",
    "\n",
    "The Differences between Step Over, Step In, Step Out buttons in debugger are:\n",
    "\n",
    "1. `Step in` - Step In button will cause the debugger to execute the next line of code and then pause again.\n",
    "2. `Step Over` - Step Over button will execute the next line of code, similar to the Step In button. However, if the next line of code is a function call, the Step Over button will “step over” the code in the function. The function’s code will be executed at full speed, and the debugger will pause as soon as the function call returns.\n",
    "3. `Step out` - Step Out button will cause the debugger to execute lines of code at full speed until it returns from the current function.\n",
    "\n"
   ]
  },
  {
   "cell_type": "markdown",
   "id": "25783ac6",
   "metadata": {},
   "source": [
    "### 10. After you click Continue, when will the debugger stop ?\n",
    "**Ans:** \n",
    "\n",
    "This will cause the program to continue running normally, without pausing for debugging  untill it terminates or reaches a breakpoint."
   ]
  },
  {
   "cell_type": "markdown",
   "id": "966e93dc",
   "metadata": {},
   "source": [
    "### 11. What is the concept of a breakpoint?\n",
    "**Ans:** \n",
    "\n",
    "Breakpoint is a setting on a line of code that causes the debugger to pause when the program execution reaches the line"
   ]
  },
  {
   "cell_type": "code",
   "execution_count": null,
   "id": "354e3d79",
   "metadata": {},
   "outputs": [],
   "source": []
  }
 ],
 "metadata": {
  "kernelspec": {
   "display_name": "Python 3 (ipykernel)",
   "language": "python",
   "name": "python3"
  },
  "language_info": {
   "codemirror_mode": {
    "name": "ipython",
    "version": 3
   },
   "file_extension": ".py",
   "mimetype": "text/x-python",
   "name": "python",
   "nbconvert_exporter": "python",
   "pygments_lexer": "ipython3",
   "version": "3.9.7"
  }
 },
 "nbformat": 4,
 "nbformat_minor": 5
}
