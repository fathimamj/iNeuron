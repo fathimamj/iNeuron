{
 "cells": [
  {
   "cell_type": "markdown",
   "id": "e9523fbb",
   "metadata": {},
   "source": [
    "# Python Programming Basic Assignment\n",
    "## Assignment - 11 [ FSDS NOV 21 ]"
   ]
  },
  {
   "cell_type": "markdown",
   "id": "267b6b8f",
   "metadata": {},
   "source": [
    "### 1. Write a Python program to find words which are greater than given length k ?"
   ]
  },
  {
   "cell_type": "code",
   "execution_count": 4,
   "id": "d3ec10f6",
   "metadata": {},
   "outputs": [
    {
     "data": {
      "text/plain": [
       "['bananana', 'almond']"
      ]
     },
     "execution_count": 4,
     "metadata": {},
     "output_type": "execute_result"
    }
   ],
   "source": [
    "def task1(list_of_words: list, k: int):\n",
    "    output = []\n",
    "    for i in list_of_words:\n",
    "        if len(i) > k:\n",
    "            output.append(i)\n",
    "            \n",
    "    return output\n",
    "\n",
    "list_of_words = ['Apple', 'bananana', 'kiwi', 'berry', 'almond']\n",
    "k = 5\n",
    "\n",
    "task1(list_of_words, k)"
   ]
  },
  {
   "cell_type": "markdown",
   "id": "3711485d",
   "metadata": {},
   "source": [
    "### 2. Write a Python program for removing i-th character from a string ?"
   ]
  },
  {
   "cell_type": "code",
   "execution_count": 15,
   "id": "f7fccd01",
   "metadata": {},
   "outputs": [
    {
     "name": "stdout",
     "output_type": "stream",
     "text": [
      "Enter position: 3\n"
     ]
    },
    {
     "data": {
      "text/plain": [
       "'hello world this mitesh'"
      ]
     },
     "execution_count": 15,
     "metadata": {},
     "output_type": "execute_result"
    }
   ],
   "source": [
    "def remove_char(sentense):\n",
    "    split = sentense.split(\" \")\n",
    "    i_th = int(input(\"Enter position: \"))\n",
    "    for i in split:\n",
    "        if split[i_th]==i:\n",
    "            split.remove(i)\n",
    "    sentense = \" \".join(split)\n",
    "    return sentense\n",
    "\n",
    "remove_char(\"hello world this is mitesh\")"
   ]
  },
  {
   "cell_type": "markdown",
   "id": "845ba790",
   "metadata": {},
   "source": [
    "### 3. Write a Python program to split and join a string ?"
   ]
  },
  {
   "cell_type": "code",
   "execution_count": 26,
   "id": "fd82df54",
   "metadata": {},
   "outputs": [
    {
     "name": "stdout",
     "output_type": "stream",
     "text": [
      "Enter the string: Ineuron Full Stack Data Science Course\n",
      "Split String: ['Ineuron', 'Full', 'Stack', 'Data', 'Science', 'Course']\n",
      "Join String: Ineuron Full Stack Data Science Course\n"
     ]
    }
   ],
   "source": [
    "def splitJoinString():\n",
    "    in_string = input('Enter the string: ')\n",
    "    print(f\"Split String: {in_string.split(' ')}\")\n",
    "    print(f\"Join String: {' '.join(in_string.split(' '))}\")\n",
    "\n",
    "splitJoinString()"
   ]
  },
  {
   "cell_type": "markdown",
   "id": "ee642cdf",
   "metadata": {},
   "source": [
    "### 4. Write a Python to check if a given string is binary string or not ?"
   ]
  },
  {
   "cell_type": "code",
   "execution_count": 14,
   "id": "6d04b29e",
   "metadata": {},
   "outputs": [
    {
     "name": "stdout",
     "output_type": "stream",
     "text": [
      "Binary String\n",
      "Non Binary String\n"
     ]
    }
   ],
   "source": [
    "def check(string) :\n",
    "    b = set(string)\n",
    "    s = {'0', '1'}\n",
    "    if s == b or b == {'0'} or b == {'1'}:\n",
    "        print(\"Binary String\")\n",
    "    else :\n",
    "        print(\"Non Binary String\")\n",
    "        \n",
    "s1= \"00110101\"\n",
    "\n",
    "check(s1)\n",
    "s2 = \"1010100200111\"\n",
    "check(s2)"
   ]
  },
  {
   "cell_type": "markdown",
   "id": "d22e2622",
   "metadata": {},
   "source": [
    "### 5. Write a Python program to find uncommon words from two Strings ?"
   ]
  },
  {
   "cell_type": "code",
   "execution_count": 13,
   "id": "be223e06",
   "metadata": {},
   "outputs": [
    {
     "name": "stdout",
     "output_type": "stream",
     "text": [
      "Enter the string a : my name is sanket\n",
      "Enter the string b : my name is mitesh\n",
      "The list of un Common words:  sanket mitesh\n"
     ]
    }
   ],
   "source": [
    "def unCommon(a,b):\n",
    "    list_one = a.split()\n",
    "    list_two = b.split()\n",
    "    notcom =''\n",
    "    for i in list_one:\n",
    "        if i not in list_two:\n",
    "            notcom = notcom +\" \"+ i\n",
    "    for j in list_two:\n",
    "        if j not in list_one:\n",
    "            notcom = notcom +\" \"+ j\n",
    "    return notcom\n",
    "a = input(\"Enter the string a : \").lower()\n",
    "b = input(\"Enter the string b : \").lower()\n",
    "print(\"The list of un Common words:\", unCommon(a,b))"
   ]
  },
  {
   "cell_type": "markdown",
   "id": "a077bda5",
   "metadata": {},
   "source": [
    "### 6. Write a Python to find all duplicate characters in string ?"
   ]
  },
  {
   "cell_type": "code",
   "execution_count": 6,
   "id": "6116a494",
   "metadata": {},
   "outputs": [
    {
     "name": "stdout",
     "output_type": "stream",
     "text": [
      "Enter the string a : iNeuron Full Stack data science\n"
     ]
    },
    {
     "data": {
      "text/plain": [
       "['i', 'n', 'e', 'u', ' ', 'l', 's', 't', 'a', 'c']"
      ]
     },
     "execution_count": 6,
     "metadata": {},
     "output_type": "execute_result"
    }
   ],
   "source": [
    "str = input(\"Enter the string a : \").lower()\n",
    "duplicate = []\n",
    "for i in str:\n",
    "    if str.count(i) > 1 :\n",
    "        if i not in duplicate:\n",
    "            duplicate.append(i)\n",
    "duplicate"
   ]
  },
  {
   "cell_type": "markdown",
   "id": "e14912b1",
   "metadata": {},
   "source": [
    "### 7. Write a Python Program to check if a string contains any special character?"
   ]
  },
  {
   "cell_type": "code",
   "execution_count": 5,
   "id": "b51b221d",
   "metadata": {},
   "outputs": [
    {
     "name": "stdout",
     "output_type": "stream",
     "text": [
      "Enter the string: 12312312\n",
      "There are 0 Speical Characters in 12312312 which are []\n",
      "Enter the string: Ashdgertr@#uyery\n",
      "There are 2 Speical Characters in Ashdgertr@#uyery which are ['@', '#']\n"
     ]
    }
   ],
   "source": [
    "def checkSpecialChar():\n",
    "    spl_chars = '[@_!#$%^&*()<>?/\\|}{~:]'\n",
    "    in_num = input('Enter the string: ')\n",
    "    count = 0\n",
    "    char_list = []\n",
    "    for ele in in_num:\n",
    "        if ele in spl_chars:\n",
    "            char_list.append(ele)\n",
    "            count = count+1\n",
    "    print(f'There are {count} Speical Characters in {in_num} which are {char_list}')\n",
    "            \n",
    "        \n",
    "checkSpecialChar()\n",
    "checkSpecialChar()"
   ]
  }
 ],
 "metadata": {
  "kernelspec": {
   "display_name": "Python 3 (ipykernel)",
   "language": "python",
   "name": "python3"
  },
  "language_info": {
   "codemirror_mode": {
    "name": "ipython",
    "version": 3
   },
   "file_extension": ".py",
   "mimetype": "text/x-python",
   "name": "python",
   "nbconvert_exporter": "python",
   "pygments_lexer": "ipython3",
   "version": "3.9.7"
  }
 },
 "nbformat": 4,
 "nbformat_minor": 5
}
