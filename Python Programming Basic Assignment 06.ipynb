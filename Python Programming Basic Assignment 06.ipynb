{
 "cells": [
  {
   "cell_type": "markdown",
   "id": "0a66efc2",
   "metadata": {},
   "source": [
    "# Python Programming Basic Assignment\n",
    "## Assignment - 06 [ FSDS NOV 21 ]"
   ]
  },
  {
   "cell_type": "markdown",
   "id": "cd035ec4",
   "metadata": {},
   "source": [
    "### 1. Write a Python Program to Display Fibonacci Sequence using Recursion ?"
   ]
  },
  {
   "cell_type": "code",
   "execution_count": 52,
   "id": "c6a0db1b",
   "metadata": {},
   "outputs": [
    {
     "name": "stdout",
     "output_type": "stream",
     "text": [
      "Enter the length of Series: 20\n",
      "0, 1, 3, 5, 8, 13, 21, 34, 55, 89, 144, 233, 377, 610, 987, 1597, 2584, 4181, 6765, 10946, 17711, 28657, "
     ]
    }
   ],
   "source": [
    "def genFibonacci(n,a,b):\n",
    "    if n == 0:\n",
    "        return 1\n",
    "    else:\n",
    "        result = a+b\n",
    "        print(result, end=', ')\n",
    "        genFibonacci(n-1,b,result)\n",
    "in_num = int(input('Enter the length of Series: '))\n",
    "print('0, 1',end=', ')\n",
    "genFibonacci(in_num,1,2)"
   ]
  },
  {
   "cell_type": "markdown",
   "id": "15b838c7",
   "metadata": {},
   "source": [
    "### 2. Write a Python Program to Find Factorial of a Number using Recursion ?"
   ]
  },
  {
   "cell_type": "code",
   "execution_count": 1,
   "id": "56e04b25",
   "metadata": {},
   "outputs": [
    {
     "name": "stdout",
     "output_type": "stream",
     "text": [
      "input a no : 5\n",
      "120\n"
     ]
    }
   ],
   "source": [
    "def fact(n):\n",
    "    if n==0:\n",
    "        return 1\n",
    "    else:\n",
    "        return n * fact(n-1)\n",
    "\n",
    "num = int(input(\"input a no : \"))\n",
    "\n",
    "if num<0:\n",
    "    print(\"Enter positive no.\")\n",
    "else:\n",
    "    \n",
    "        print(fact(num))\n",
    "\n"
   ]
  },
  {
   "cell_type": "markdown",
   "id": "95f7ab1e",
   "metadata": {},
   "source": [
    "### 3. Write a Python Program to Calculate your Body Mass Index ?"
   ]
  },
  {
   "cell_type": "code",
   "execution_count": 2,
   "id": "8e0c3d17",
   "metadata": {},
   "outputs": [
    {
     "name": "stdout",
     "output_type": "stream",
     "text": [
      "Enter weight in kg: 75\n",
      "Enter height in m: 1.75\n",
      "Your BMI is:  24.489795918367346\n",
      "Healthy Range\n"
     ]
    }
   ],
   "source": [
    "def bmi(weight,height):\n",
    "    result = (weight/height**2)\n",
    "\n",
    "    print(\"Your BMI is: \",result)\n",
    "    \n",
    "    if result>= 18.5 and result<=24.9:\n",
    "        print(\"Healthy Range\")\n",
    "    elif result<18.5:\n",
    "        print(\"Underweight\")\n",
    "    else:\n",
    "        print(\"overweight\")\n",
    "    \n",
    "weight = float(input(\"Enter weight in kg: \"))\n",
    "height = float(input(\"Enter height in m: \"))\n",
    "bmi(weight,height)"
   ]
  },
  {
   "cell_type": "markdown",
   "id": "8be593fe",
   "metadata": {},
   "source": [
    "### 4. Write a Python Program to Calculate the Natural Logarithm of any Number ?"
   ]
  },
  {
   "cell_type": "code",
   "execution_count": 3,
   "id": "e1db8d0f",
   "metadata": {},
   "outputs": [
    {
     "name": "stdout",
     "output_type": "stream",
     "text": [
      "Enter the number: 32\n",
      "3.4657359027997265\n"
     ]
    }
   ],
   "source": [
    "import math\n",
    "\n",
    "try:\n",
    "    num = int(input(\"Enter the number: \"))\n",
    "except Exception as e:\n",
    "    print(e)\n",
    "else:\n",
    "    print(math.log(num))"
   ]
  },
  {
   "cell_type": "markdown",
   "id": "5dc827ea",
   "metadata": {},
   "source": [
    "### 5. Write a Python Program for Cube sum of first n Natural Numbers ?"
   ]
  },
  {
   "cell_type": "code",
   "execution_count": 5,
   "id": "70a3a203",
   "metadata": {},
   "outputs": [
    {
     "name": "stdout",
     "output_type": "stream",
     "text": [
      "Enter the no of Natural Numbers: 500\n",
      "The Cube Sum of First 500 Natural Numbers is 15687562500.0\n"
     ]
    }
   ],
   "source": [
    "def cubeOfNaturalNumbers():\n",
    "    in_num = int(input(\"Enter the no of Natural Numbers: \"))\n",
    "    result = pow(((in_num * (in_num +1))/2),2)\n",
    "    print(f'The Cube Sum of First {in_num} Natural Numbers is {result}')\n",
    "\n",
    "cubeOfNaturalNumbers()"
   ]
  }
 ],
 "metadata": {
  "kernelspec": {
   "display_name": "Python 3 (ipykernel)",
   "language": "python",
   "name": "python3"
  },
  "language_info": {
   "codemirror_mode": {
    "name": "ipython",
    "version": 3
   },
   "file_extension": ".py",
   "mimetype": "text/x-python",
   "name": "python",
   "nbconvert_exporter": "python",
   "pygments_lexer": "ipython3",
   "version": "3.9.7"
  }
 },
 "nbformat": 4,
 "nbformat_minor": 5
}
