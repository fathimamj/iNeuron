{
 "cells": [
  {
   "cell_type": "markdown",
   "id": "9e1733f2",
   "metadata": {},
   "source": [
    "# Python Programming Basic Assignment\n",
    "## Assignment - 05 [ FSDS NOV 21 ]"
   ]
  },
  {
   "cell_type": "markdown",
   "id": "901748b2",
   "metadata": {},
   "source": [
    "### 1. Write a Python Program to find LCM ?"
   ]
  },
  {
   "cell_type": "code",
   "execution_count": 6,
   "id": "91140999",
   "metadata": {},
   "outputs": [
    {
     "name": "stdout",
     "output_type": "stream",
     "text": [
      "LCM of 10 and 8 is 40\n"
     ]
    }
   ],
   "source": [
    "def lcm(num_1,num_2):\n",
    "\n",
    "    if num_1>num_2:\n",
    "        max = num_1\n",
    "    \n",
    "    else:\n",
    "        max = num_2\n",
    "    \n",
    "    while True:\n",
    "        if max % num_1 == 0 and max % num_2 == 0:\n",
    "            print(f\"LCM of {num_1} and {num_2} is {max}\")\n",
    "            break\n",
    "            \n",
    "        max = max+1\n",
    "       \n",
    "lcm(10,8)\n",
    "    "
   ]
  },
  {
   "cell_type": "markdown",
   "id": "5998fa74",
   "metadata": {},
   "source": [
    "### 2. Write a Python Program to find HCF ?"
   ]
  },
  {
   "cell_type": "code",
   "execution_count": 4,
   "id": "352d08d9",
   "metadata": {},
   "outputs": [
    {
     "name": "stdout",
     "output_type": "stream",
     "text": [
      "Enter first number: 18\n",
      "Enter second number: 422\n",
      "The HCF of 18,422 is 2\n"
     ]
    }
   ],
   "source": [
    "#  HCF of twp numbers\n",
    "\n",
    "def hcf_of_two(a,b):\n",
    "    if a>b:\n",
    "        smaller = b\n",
    "    else:\n",
    "        smaller = a\n",
    "    for i in range(1,smaller+1):\n",
    "        if((a%i == 0) and (b%i == 0)):\n",
    "            hcf = i\n",
    "    print(f'The HCF of {a},{b} is {hcf}')\n",
    "\n",
    "\n",
    "a= int(input('Enter first number: '))\n",
    "b= int(input('Enter second number: '))\n",
    "hcf_of_two(a,b)"
   ]
  },
  {
   "cell_type": "markdown",
   "id": "f29f8214",
   "metadata": {},
   "source": [
    "### 3. Write a Python Program to Convert Decimal to Binary, Octal and Hexadecimal ?"
   ]
  },
  {
   "cell_type": "code",
   "execution_count": 23,
   "id": "53212645",
   "metadata": {},
   "outputs": [
    {
     "name": "stdout",
     "output_type": "stream",
     "text": [
      "Enter a Number: 55252555\n",
      "Binary Number -> 0b11010010110001011001001011\n",
      "Octal Number -> 0o322613113\n",
      "Hexadecimal Number -> 0x34b164b\n"
     ]
    }
   ],
   "source": [
    "def DecimalToOther():\n",
    "    num = int(input('Enter a Number: '))\n",
    "    print(f'Binary Number -> {bin(num)}')\n",
    "    print(f'Octal Number -> {oct(num)}')    \n",
    "    print(f'Hexadecimal Number -> {hex(num)}')    \n",
    "\n",
    "DecimalToOther()"
   ]
  },
  {
   "cell_type": "markdown",
   "id": "1a4ed424",
   "metadata": {},
   "source": [
    "### 4. Write a Python Program to Find the ASCII value of  a Character ?"
   ]
  },
  {
   "cell_type": "code",
   "execution_count": 3,
   "id": "8173265f",
   "metadata": {},
   "outputs": [
    {
     "name": "stdout",
     "output_type": "stream",
     "text": [
      "Enter a Charecter : A\n",
      "Ascii value of A is 65\n"
     ]
    }
   ],
   "source": [
    "str = input(\"Enter a Charecter : \")\n",
    "# ord gives the ASCII value of a character\n",
    "print(\"Ascii value of {} is {}\".format(str,ord(str)))"
   ]
  },
  {
   "cell_type": "markdown",
   "id": "e9f467f1",
   "metadata": {},
   "source": [
    "### 5. Write a Python Program to Make a Simple Calculator with 4 Basic Mathematical operations ?"
   ]
  },
  {
   "cell_type": "code",
   "execution_count": 1,
   "id": "846d7a21",
   "metadata": {},
   "outputs": [
    {
     "name": "stdout",
     "output_type": "stream",
     "text": [
      "Enter num1 :23\n",
      "Enter num2 :52\n",
      "Enter + to add : \n",
      "Enter - to Sub :\n",
      "Enter * to multi :\n",
      "Enter / to div : *\n",
      "23.0 * 52.0 = 1196.0\n"
     ]
    }
   ],
   "source": [
    "x = float(input(\"Enter num1 :\"))\n",
    "y = float(input(\"Enter num2 :\"))\n",
    "op = input(\"Enter + to add : \\nEnter - to Sub :\\nEnter * to multi :\\nEnter / to div : \") \n",
    "add = x + y\n",
    "sub = x - y\n",
    "mul = x * y\n",
    "if op == \"+\":\n",
    "    print(\"{} + {} = {}\".format(x,y,add))\n",
    "elif op == \"-\":\n",
    "    print(\"{} - {} = {}\".format(x,y,sub))\n",
    "elif op == \"*\":\n",
    "    print(\"{} * {} = {}\".format(x,y,mul))\n",
    "elif op == \"/\":\n",
    "    if num1 == 0 or num2 == 0:\n",
    "        print(\"Division with zero is not possible\")\n",
    "    else:\n",
    "        div = x / y\n",
    "        print(\"{} / {} = {}\".format(x,y,div))\n",
    "else:\n",
    "    print(\"Invalid input\")"
   ]
  },
  {
   "cell_type": "code",
   "execution_count": null,
   "id": "38687e9b",
   "metadata": {},
   "outputs": [],
   "source": []
  }
 ],
 "metadata": {
  "kernelspec": {
   "display_name": "Python 3 (ipykernel)",
   "language": "python",
   "name": "python3"
  },
  "language_info": {
   "codemirror_mode": {
    "name": "ipython",
    "version": 3
   },
   "file_extension": ".py",
   "mimetype": "text/x-python",
   "name": "python",
   "nbconvert_exporter": "python",
   "pygments_lexer": "ipython3",
   "version": "3.9.7"
  }
 },
 "nbformat": 4,
 "nbformat_minor": 5
}
